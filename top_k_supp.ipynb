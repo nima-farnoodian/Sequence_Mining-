{
 "cells": [
  {
   "cell_type": "code",
   "execution_count": 1,
   "metadata": {},
   "outputs": [],
   "source": [
    "import pandas as pd\n",
    "from sklearn.model_selection import train_test_split\n",
    "from sklearn.linear_model import LogisticRegression\n",
    "from sklearn.tree import DecisionTreeClassifier\n",
    "from sklearn.model_selection import cross_val_score\n",
    "import matplotlib.pyplot as plt"
   ]
  },
  {
   "cell_type": "code",
   "execution_count": 2,
   "metadata": {},
   "outputs": [],
   "source": [
    "from topk_spade import *"
   ]
  },
  {
   "cell_type": "markdown",
   "metadata": {},
   "source": [
    "# Example of running the algorithm to check if everything in topk_spade works"
   ]
  },
  {
   "cell_type": "code",
   "execution_count": 17,
   "metadata": {},
   "outputs": [
    {
     "name": "stdout",
     "output_type": "stream",
     "text": [
      "[reuter] 2675 1421 4096\n",
      "[mln] 1674 720 2394\n",
      "[and] 1161 1217 2378\n",
      "[and, reuter] 1147 1184 2331\n",
      "[mln, reuter] 1625 693 2318\n",
      "[dlr] 1262 896 2158\n",
      "[dlr, reuter] 1211 842 2053\n",
      "[ct] 2025 27 2052\n",
      "[inc] 1163 880 2043\n",
      "[for] 946 1074 2020\n"
     ]
    }
   ],
   "source": [
    "ds_positive=Dataset_Sequence('r-positive.txt')\n",
    "ds_negative=Dataset_Sequence('r-negative.txt')\n",
    "\n",
    "selected=topk_spade(ds_positive, ds_negative,10,printing=True)"
   ]
  },
  {
   "cell_type": "code",
   "execution_count": 18,
   "metadata": {},
   "outputs": [],
   "source": [
    "check_one_instance=selected[2378].pop()"
   ]
  },
  {
   "cell_type": "code",
   "execution_count": 19,
   "metadata": {},
   "outputs": [
    {
     "data": {
      "text/plain": [
       "('and',)"
      ]
     },
     "execution_count": 19,
     "metadata": {},
     "output_type": "execute_result"
    }
   ],
   "source": [
    "check_one_instance"
   ]
  },
  {
   "cell_type": "markdown",
   "metadata": {},
   "source": [
    "# Machine Learning Performance Comparision"
   ]
  },
  {
   "cell_type": "markdown",
   "metadata": {},
   "source": [
    "## 1- function for creating Pandas data frame"
   ]
  },
  {
   "cell_type": "code",
   "execution_count": 3,
   "metadata": {},
   "outputs": [],
   "source": [
    "def check_subsequence(a,b):\n",
    "    # This function check if b is a subsequence of a\n",
    "    # a is the possible supersequence\n",
    "    # b is the possible subsequence\n",
    "    try:\n",
    "        if len(b)<len(a):\n",
    "            start=a.index(b[0])\n",
    "            count=0\n",
    "            for idx in range(len(a)-start):\n",
    "                if count<len(b) and a[start+idx]==b[count]:\n",
    "                    count+=1\n",
    "            if count==len(b):\n",
    "                return True\n",
    "        return False\n",
    "    except:\n",
    "        return False"
   ]
  },
  {
   "cell_type": "code",
   "execution_count": 4,
   "metadata": {},
   "outputs": [],
   "source": [
    "def Create_df(selected,positiveTrans,negativeTrans):\n",
    "    seqList=[]\n",
    "    for i in selected:\n",
    "        seqs=list(selected[i])\n",
    "        for seq in seqs:\n",
    "            seqList.append(seq)\n",
    "    frame = pd.DataFrame(columns = seqList+['label'])\n",
    "    counter=0\n",
    "    # Adding Positive Class\n",
    "    for transaction in positiveTrans:\n",
    "        seqObserved=[]\n",
    "        for seq in seqList:\n",
    "            seqObserved.append(int(check_subsequence(transaction,seq)))\n",
    "        seqObserved.append(True)\n",
    "        frame.loc[counter]=seqObserved\n",
    "        counter+=1\n",
    "    # Adding Negative Class\n",
    "    for transaction in negativeTrans:\n",
    "        seqObserved=[]\n",
    "        for seq in seqList:\n",
    "            seqObserved.append(int(check_subsequence(transaction,seq)))\n",
    "        seqObserved.append(False)\n",
    "        frame.loc[counter]=seqObserved\n",
    "        counter+=1\n",
    "    frame = frame.sample(frac=1).reset_index(drop=True)\n",
    "    return frame"
   ]
  },
  {
   "cell_type": "code",
   "execution_count": 140,
   "metadata": {},
   "outputs": [],
   "source": [
    "ds_positive=Dataset_Sequence('positive.txt')\n",
    "ds_negative=Dataset_Sequence('negative.txt')\n",
    "\n",
    "selected=topk_spade(ds_positive, ds_negative,6,printing=False)"
   ]
  },
  {
   "cell_type": "code",
   "execution_count": 141,
   "metadata": {},
   "outputs": [],
   "source": [
    "frame=Create_df(selected,ds_positive.transactions,ds_negative.transactions)"
   ]
  },
  {
   "cell_type": "code",
   "execution_count": 142,
   "metadata": {},
   "outputs": [
    {
     "data": {
      "text/html": [
       "<div>\n",
       "<style scoped>\n",
       "    .dataframe tbody tr th:only-of-type {\n",
       "        vertical-align: middle;\n",
       "    }\n",
       "\n",
       "    .dataframe tbody tr th {\n",
       "        vertical-align: top;\n",
       "    }\n",
       "\n",
       "    .dataframe thead th {\n",
       "        text-align: right;\n",
       "    }\n",
       "</style>\n",
       "<table border=\"1\" class=\"dataframe\">\n",
       "  <thead>\n",
       "    <tr style=\"text-align: right;\">\n",
       "      <th></th>\n",
       "      <th>(C,)</th>\n",
       "      <th>(A,)</th>\n",
       "      <th>(C, A)</th>\n",
       "      <th>(B, A)</th>\n",
       "      <th>(A, A)</th>\n",
       "      <th>(B,)</th>\n",
       "      <th>(A, C, A)</th>\n",
       "      <th>(A, B)</th>\n",
       "      <th>(C, C, A)</th>\n",
       "      <th>(C, C)</th>\n",
       "      <th>...</th>\n",
       "      <th>(B, B, A)</th>\n",
       "      <th>(B, A, B)</th>\n",
       "      <th>(C, B)</th>\n",
       "      <th>(C, B, B)</th>\n",
       "      <th>(C, B, A)</th>\n",
       "      <th>(A, B, B)</th>\n",
       "      <th>(A, B, A)</th>\n",
       "      <th>(A, C, C)</th>\n",
       "      <th>(A, C, C, A)</th>\n",
       "      <th>label</th>\n",
       "    </tr>\n",
       "  </thead>\n",
       "  <tbody>\n",
       "    <tr>\n",
       "      <th>0</th>\n",
       "      <td>1</td>\n",
       "      <td>1</td>\n",
       "      <td>1</td>\n",
       "      <td>1</td>\n",
       "      <td>1</td>\n",
       "      <td>1</td>\n",
       "      <td>1</td>\n",
       "      <td>1</td>\n",
       "      <td>0</td>\n",
       "      <td>0</td>\n",
       "      <td>...</td>\n",
       "      <td>1</td>\n",
       "      <td>0</td>\n",
       "      <td>0</td>\n",
       "      <td>0</td>\n",
       "      <td>0</td>\n",
       "      <td>1</td>\n",
       "      <td>1</td>\n",
       "      <td>0</td>\n",
       "      <td>0</td>\n",
       "      <td>True</td>\n",
       "    </tr>\n",
       "    <tr>\n",
       "      <th>1</th>\n",
       "      <td>1</td>\n",
       "      <td>1</td>\n",
       "      <td>1</td>\n",
       "      <td>1</td>\n",
       "      <td>1</td>\n",
       "      <td>1</td>\n",
       "      <td>1</td>\n",
       "      <td>1</td>\n",
       "      <td>1</td>\n",
       "      <td>1</td>\n",
       "      <td>...</td>\n",
       "      <td>0</td>\n",
       "      <td>1</td>\n",
       "      <td>1</td>\n",
       "      <td>1</td>\n",
       "      <td>1</td>\n",
       "      <td>1</td>\n",
       "      <td>1</td>\n",
       "      <td>1</td>\n",
       "      <td>1</td>\n",
       "      <td>True</td>\n",
       "    </tr>\n",
       "    <tr>\n",
       "      <th>2</th>\n",
       "      <td>1</td>\n",
       "      <td>1</td>\n",
       "      <td>1</td>\n",
       "      <td>1</td>\n",
       "      <td>1</td>\n",
       "      <td>1</td>\n",
       "      <td>1</td>\n",
       "      <td>1</td>\n",
       "      <td>1</td>\n",
       "      <td>1</td>\n",
       "      <td>...</td>\n",
       "      <td>0</td>\n",
       "      <td>1</td>\n",
       "      <td>1</td>\n",
       "      <td>1</td>\n",
       "      <td>1</td>\n",
       "      <td>1</td>\n",
       "      <td>1</td>\n",
       "      <td>1</td>\n",
       "      <td>1</td>\n",
       "      <td>False</td>\n",
       "    </tr>\n",
       "    <tr>\n",
       "      <th>3</th>\n",
       "      <td>1</td>\n",
       "      <td>1</td>\n",
       "      <td>1</td>\n",
       "      <td>0</td>\n",
       "      <td>1</td>\n",
       "      <td>0</td>\n",
       "      <td>1</td>\n",
       "      <td>0</td>\n",
       "      <td>1</td>\n",
       "      <td>1</td>\n",
       "      <td>...</td>\n",
       "      <td>0</td>\n",
       "      <td>0</td>\n",
       "      <td>0</td>\n",
       "      <td>0</td>\n",
       "      <td>0</td>\n",
       "      <td>0</td>\n",
       "      <td>0</td>\n",
       "      <td>1</td>\n",
       "      <td>1</td>\n",
       "      <td>True</td>\n",
       "    </tr>\n",
       "    <tr>\n",
       "      <th>4</th>\n",
       "      <td>1</td>\n",
       "      <td>1</td>\n",
       "      <td>1</td>\n",
       "      <td>1</td>\n",
       "      <td>1</td>\n",
       "      <td>1</td>\n",
       "      <td>1</td>\n",
       "      <td>1</td>\n",
       "      <td>1</td>\n",
       "      <td>1</td>\n",
       "      <td>...</td>\n",
       "      <td>0</td>\n",
       "      <td>0</td>\n",
       "      <td>0</td>\n",
       "      <td>0</td>\n",
       "      <td>0</td>\n",
       "      <td>0</td>\n",
       "      <td>1</td>\n",
       "      <td>1</td>\n",
       "      <td>1</td>\n",
       "      <td>True</td>\n",
       "    </tr>\n",
       "    <tr>\n",
       "      <th>5</th>\n",
       "      <td>1</td>\n",
       "      <td>1</td>\n",
       "      <td>1</td>\n",
       "      <td>1</td>\n",
       "      <td>1</td>\n",
       "      <td>1</td>\n",
       "      <td>0</td>\n",
       "      <td>0</td>\n",
       "      <td>1</td>\n",
       "      <td>1</td>\n",
       "      <td>...</td>\n",
       "      <td>1</td>\n",
       "      <td>0</td>\n",
       "      <td>1</td>\n",
       "      <td>1</td>\n",
       "      <td>1</td>\n",
       "      <td>0</td>\n",
       "      <td>0</td>\n",
       "      <td>0</td>\n",
       "      <td>0</td>\n",
       "      <td>False</td>\n",
       "    </tr>\n",
       "    <tr>\n",
       "      <th>6</th>\n",
       "      <td>1</td>\n",
       "      <td>1</td>\n",
       "      <td>1</td>\n",
       "      <td>1</td>\n",
       "      <td>0</td>\n",
       "      <td>1</td>\n",
       "      <td>0</td>\n",
       "      <td>1</td>\n",
       "      <td>0</td>\n",
       "      <td>0</td>\n",
       "      <td>...</td>\n",
       "      <td>1</td>\n",
       "      <td>1</td>\n",
       "      <td>1</td>\n",
       "      <td>1</td>\n",
       "      <td>1</td>\n",
       "      <td>1</td>\n",
       "      <td>0</td>\n",
       "      <td>0</td>\n",
       "      <td>0</td>\n",
       "      <td>False</td>\n",
       "    </tr>\n",
       "  </tbody>\n",
       "</table>\n",
       "<p>7 rows × 49 columns</p>\n",
       "</div>"
      ],
      "text/plain": [
       "  (C,) (A,) (C, A) (B, A) (A, A) (B,) (A, C, A) (A, B) (C, C, A) (C, C)  ...  \\\n",
       "0    1    1      1      1      1    1         1      1         0      0  ...   \n",
       "1    1    1      1      1      1    1         1      1         1      1  ...   \n",
       "2    1    1      1      1      1    1         1      1         1      1  ...   \n",
       "3    1    1      1      0      1    0         1      0         1      1  ...   \n",
       "4    1    1      1      1      1    1         1      1         1      1  ...   \n",
       "5    1    1      1      1      1    1         0      0         1      1  ...   \n",
       "6    1    1      1      1      0    1         0      1         0      0  ...   \n",
       "\n",
       "  (B, B, A) (B, A, B) (C, B) (C, B, B) (C, B, A) (A, B, B) (A, B, A)  \\\n",
       "0         1         0      0         0         0         1         1   \n",
       "1         0         1      1         1         1         1         1   \n",
       "2         0         1      1         1         1         1         1   \n",
       "3         0         0      0         0         0         0         0   \n",
       "4         0         0      0         0         0         0         1   \n",
       "5         1         0      1         1         1         0         0   \n",
       "6         1         1      1         1         1         1         0   \n",
       "\n",
       "  (A, C, C) (A, C, C, A)  label  \n",
       "0         0            0   True  \n",
       "1         1            1   True  \n",
       "2         1            1  False  \n",
       "3         1            1   True  \n",
       "4         1            1   True  \n",
       "5         0            0  False  \n",
       "6         0            0  False  \n",
       "\n",
       "[7 rows x 49 columns]"
      ]
     },
     "execution_count": 142,
     "metadata": {},
     "output_type": "execute_result"
    }
   ],
   "source": [
    "frame"
   ]
  },
  {
   "cell_type": "markdown",
   "metadata": {},
   "source": [
    "### 1-1 Running Experiment on Machine Learning (Example) (Logistic Regression and Decision Tree)"
   ]
  },
  {
   "cell_type": "markdown",
   "metadata": {},
   "source": [
    "#### 1-1-1 Protein Dataset with k=10"
   ]
  },
  {
   "cell_type": "code",
   "execution_count": 78,
   "metadata": {},
   "outputs": [],
   "source": [
    "ds_positive=Dataset_Sequence('p-positive.txt')\n",
    "ds_negative=Dataset_Sequence('p-negative.txt')\n",
    "\n",
    "selected=topk_spade(ds_positive, ds_negative,10,printing=False)\n",
    "frame=Create_df(selected,ds_positive.transactions,ds_negative.transactions)"
   ]
  },
  {
   "cell_type": "code",
   "execution_count": 79,
   "metadata": {},
   "outputs": [
    {
     "data": {
      "text/html": [
       "<div>\n",
       "<style scoped>\n",
       "    .dataframe tbody tr th:only-of-type {\n",
       "        vertical-align: middle;\n",
       "    }\n",
       "\n",
       "    .dataframe tbody tr th {\n",
       "        vertical-align: top;\n",
       "    }\n",
       "\n",
       "    .dataframe thead th {\n",
       "        text-align: right;\n",
       "    }\n",
       "</style>\n",
       "<table border=\"1\" class=\"dataframe\">\n",
       "  <thead>\n",
       "    <tr style=\"text-align: right;\">\n",
       "      <th></th>\n",
       "      <th>(G,)</th>\n",
       "      <th>(T,)</th>\n",
       "      <th>(A,)</th>\n",
       "      <th>(L,)</th>\n",
       "      <th>(E,)</th>\n",
       "      <th>(P,)</th>\n",
       "      <th>(S,)</th>\n",
       "      <th>(V,)</th>\n",
       "      <th>(Y,)</th>\n",
       "      <th>(R,)</th>\n",
       "      <th>(R, S)</th>\n",
       "      <th>label</th>\n",
       "    </tr>\n",
       "  </thead>\n",
       "  <tbody>\n",
       "    <tr>\n",
       "      <th>1</th>\n",
       "      <td>1</td>\n",
       "      <td>0</td>\n",
       "      <td>0</td>\n",
       "      <td>1</td>\n",
       "      <td>1</td>\n",
       "      <td>1</td>\n",
       "      <td>0</td>\n",
       "      <td>1</td>\n",
       "      <td>1</td>\n",
       "      <td>1</td>\n",
       "      <td>0</td>\n",
       "      <td>True</td>\n",
       "    </tr>\n",
       "    <tr>\n",
       "      <th>509</th>\n",
       "      <td>0</td>\n",
       "      <td>0</td>\n",
       "      <td>1</td>\n",
       "      <td>0</td>\n",
       "      <td>0</td>\n",
       "      <td>1</td>\n",
       "      <td>1</td>\n",
       "      <td>0</td>\n",
       "      <td>0</td>\n",
       "      <td>1</td>\n",
       "      <td>1</td>\n",
       "      <td>False</td>\n",
       "    </tr>\n",
       "    <tr>\n",
       "      <th>620</th>\n",
       "      <td>0</td>\n",
       "      <td>0</td>\n",
       "      <td>0</td>\n",
       "      <td>1</td>\n",
       "      <td>1</td>\n",
       "      <td>1</td>\n",
       "      <td>0</td>\n",
       "      <td>0</td>\n",
       "      <td>1</td>\n",
       "      <td>0</td>\n",
       "      <td>0</td>\n",
       "      <td>True</td>\n",
       "    </tr>\n",
       "    <tr>\n",
       "      <th>26</th>\n",
       "      <td>1</td>\n",
       "      <td>0</td>\n",
       "      <td>1</td>\n",
       "      <td>1</td>\n",
       "      <td>1</td>\n",
       "      <td>1</td>\n",
       "      <td>0</td>\n",
       "      <td>1</td>\n",
       "      <td>1</td>\n",
       "      <td>1</td>\n",
       "      <td>0</td>\n",
       "      <td>True</td>\n",
       "    </tr>\n",
       "    <tr>\n",
       "      <th>414</th>\n",
       "      <td>0</td>\n",
       "      <td>1</td>\n",
       "      <td>1</td>\n",
       "      <td>0</td>\n",
       "      <td>1</td>\n",
       "      <td>0</td>\n",
       "      <td>1</td>\n",
       "      <td>1</td>\n",
       "      <td>1</td>\n",
       "      <td>1</td>\n",
       "      <td>1</td>\n",
       "      <td>False</td>\n",
       "    </tr>\n",
       "  </tbody>\n",
       "</table>\n",
       "</div>"
      ],
      "text/plain": [
       "    (G,) (T,) (A,) (L,) (E,) (P,) (S,) (V,) (Y,) (R,) (R, S)  label\n",
       "1      1    0    0    1    1    1    0    1    1    1      0   True\n",
       "509    0    0    1    0    0    1    1    0    0    1      1  False\n",
       "620    0    0    0    1    1    1    0    0    1    0      0   True\n",
       "26     1    0    1    1    1    1    0    1    1    1      0   True\n",
       "414    0    1    1    0    1    0    1    1    1    1      1  False"
      ]
     },
     "execution_count": 79,
     "metadata": {},
     "output_type": "execute_result"
    }
   ],
   "source": [
    "frame.sample(5)"
   ]
  },
  {
   "cell_type": "code",
   "execution_count": 80,
   "metadata": {},
   "outputs": [],
   "source": [
    " X_train, X_test, y_train, y_test = train_test_split(frame.iloc[:,:-1], frame.iloc[:,-1], test_size=0.3, random_state=42)"
   ]
  },
  {
   "cell_type": "markdown",
   "metadata": {},
   "source": [
    "##### Logistic Regression"
   ]
  },
  {
   "cell_type": "code",
   "execution_count": 104,
   "metadata": {},
   "outputs": [
    {
     "name": "stdout",
     "output_type": "stream",
     "text": [
      "Logistic Regression:\n",
      "\tTraining Accuracy: 0.9074074074074074\n",
      "\tTest Accuracy: 0.9186602870813397\n"
     ]
    }
   ],
   "source": [
    "lr = LogisticRegression(random_state=0).fit(X_train, y_train.astype(int))\n",
    "print('Logistic Regression:')\n",
    "print('\\tTraining Accuracy:',lr.score(X_train, y_train.astype(int)))\n",
    "print('\\tTest Accuracy:',lr.score(X_test, y_test.astype(int)))"
   ]
  },
  {
   "cell_type": "markdown",
   "metadata": {},
   "source": [
    "#### Decision Tree"
   ]
  },
  {
   "cell_type": "code",
   "execution_count": 105,
   "metadata": {},
   "outputs": [
    {
     "name": "stdout",
     "output_type": "stream",
     "text": [
      "Decision Tree:\n",
      "\tTraining Accuracy: 0.9526748971193416\n",
      "\tTest Accuracy: 0.8995215311004785\n"
     ]
    }
   ],
   "source": [
    "dt = DecisionTreeClassifier(random_state=0).fit(X_train, y_train.astype(int))\n",
    "print('Decision Tree:')\n",
    "print('\\tTraining Accuracy:',dt.score(X_train, y_train.astype(int)))\n",
    "print('\\tTest Accuracy:',dt.score(X_test, y_test.astype(int)))"
   ]
  },
  {
   "cell_type": "markdown",
   "metadata": {},
   "source": [
    "#### 1-1-2 Reuters Dataset with k=10"
   ]
  },
  {
   "cell_type": "code",
   "execution_count": 108,
   "metadata": {},
   "outputs": [],
   "source": [
    "ds_positive=Dataset_Sequence('r-positive.txt')\n",
    "ds_negative=Dataset_Sequence('r-negative.txt')\n",
    "\n",
    "selected=topk_spade(ds_positive, ds_negative,10,printing=False)\n",
    "frame=Create_df(selected,ds_positive.transactions,ds_negative.transactions)"
   ]
  },
  {
   "cell_type": "code",
   "execution_count": 109,
   "metadata": {},
   "outputs": [
    {
     "data": {
      "text/html": [
       "<div>\n",
       "<style scoped>\n",
       "    .dataframe tbody tr th:only-of-type {\n",
       "        vertical-align: middle;\n",
       "    }\n",
       "\n",
       "    .dataframe tbody tr th {\n",
       "        vertical-align: top;\n",
       "    }\n",
       "\n",
       "    .dataframe thead th {\n",
       "        text-align: right;\n",
       "    }\n",
       "</style>\n",
       "<table border=\"1\" class=\"dataframe\">\n",
       "  <thead>\n",
       "    <tr style=\"text-align: right;\">\n",
       "      <th></th>\n",
       "      <th>(and,)</th>\n",
       "      <th>(for,)</th>\n",
       "      <th>(inc,)</th>\n",
       "      <th>(ct,)</th>\n",
       "      <th>(mln,)</th>\n",
       "      <th>(dlr,)</th>\n",
       "      <th>(reuter,)</th>\n",
       "      <th>(mln, reuter)</th>\n",
       "      <th>(and, reuter)</th>\n",
       "      <th>(dlr, reuter)</th>\n",
       "      <th>label</th>\n",
       "    </tr>\n",
       "  </thead>\n",
       "  <tbody>\n",
       "    <tr>\n",
       "      <th>271</th>\n",
       "      <td>1</td>\n",
       "      <td>1</td>\n",
       "      <td>1</td>\n",
       "      <td>0</td>\n",
       "      <td>1</td>\n",
       "      <td>1</td>\n",
       "      <td>1</td>\n",
       "      <td>1</td>\n",
       "      <td>1</td>\n",
       "      <td>1</td>\n",
       "      <td>False</td>\n",
       "    </tr>\n",
       "    <tr>\n",
       "      <th>72</th>\n",
       "      <td>1</td>\n",
       "      <td>0</td>\n",
       "      <td>0</td>\n",
       "      <td>1</td>\n",
       "      <td>1</td>\n",
       "      <td>1</td>\n",
       "      <td>1</td>\n",
       "      <td>1</td>\n",
       "      <td>1</td>\n",
       "      <td>1</td>\n",
       "      <td>True</td>\n",
       "    </tr>\n",
       "    <tr>\n",
       "      <th>1278</th>\n",
       "      <td>1</td>\n",
       "      <td>1</td>\n",
       "      <td>0</td>\n",
       "      <td>0</td>\n",
       "      <td>1</td>\n",
       "      <td>1</td>\n",
       "      <td>1</td>\n",
       "      <td>1</td>\n",
       "      <td>1</td>\n",
       "      <td>1</td>\n",
       "      <td>False</td>\n",
       "    </tr>\n",
       "    <tr>\n",
       "      <th>4078</th>\n",
       "      <td>0</td>\n",
       "      <td>0</td>\n",
       "      <td>1</td>\n",
       "      <td>0</td>\n",
       "      <td>1</td>\n",
       "      <td>0</td>\n",
       "      <td>1</td>\n",
       "      <td>1</td>\n",
       "      <td>0</td>\n",
       "      <td>0</td>\n",
       "      <td>False</td>\n",
       "    </tr>\n",
       "    <tr>\n",
       "      <th>359</th>\n",
       "      <td>1</td>\n",
       "      <td>1</td>\n",
       "      <td>1</td>\n",
       "      <td>0</td>\n",
       "      <td>1</td>\n",
       "      <td>1</td>\n",
       "      <td>1</td>\n",
       "      <td>1</td>\n",
       "      <td>1</td>\n",
       "      <td>1</td>\n",
       "      <td>False</td>\n",
       "    </tr>\n",
       "  </tbody>\n",
       "</table>\n",
       "</div>"
      ],
      "text/plain": [
       "     (and,) (for,) (inc,) (ct,) (mln,) (dlr,) (reuter,) (mln, reuter)  \\\n",
       "271       1      1      1     0      1      1         1             1   \n",
       "72        1      0      0     1      1      1         1             1   \n",
       "1278      1      1      0     0      1      1         1             1   \n",
       "4078      0      0      1     0      1      0         1             1   \n",
       "359       1      1      1     0      1      1         1             1   \n",
       "\n",
       "     (and, reuter) (dlr, reuter)  label  \n",
       "271              1             1  False  \n",
       "72               1             1   True  \n",
       "1278             1             1  False  \n",
       "4078             0             0  False  \n",
       "359              1             1  False  "
      ]
     },
     "execution_count": 109,
     "metadata": {},
     "output_type": "execute_result"
    }
   ],
   "source": [
    "frame.sample(5)"
   ]
  },
  {
   "cell_type": "code",
   "execution_count": 110,
   "metadata": {},
   "outputs": [],
   "source": [
    " X_train, X_test, y_train, y_test = train_test_split(frame.iloc[:,:-1], frame.iloc[:,-1], test_size=0.3, random_state=42)"
   ]
  },
  {
   "cell_type": "markdown",
   "metadata": {},
   "source": [
    "##### Logistic Regression"
   ]
  },
  {
   "cell_type": "code",
   "execution_count": 111,
   "metadata": {},
   "outputs": [
    {
     "name": "stdout",
     "output_type": "stream",
     "text": [
      "Logistic Regression:\n",
      "\tTraining Accuracy: 0.854287556415216\n",
      "\tTest Accuracy: 0.8360902255639098\n"
     ]
    }
   ],
   "source": [
    "lr = LogisticRegression(random_state=0).fit(X_train, y_train.astype(int))\n",
    "print('Logistic Regression:')\n",
    "print('\\tTraining Accuracy:',lr.score(X_train, y_train.astype(int)))\n",
    "print('\\tTest Accuracy:',lr.score(X_test, y_test.astype(int)))"
   ]
  },
  {
   "cell_type": "markdown",
   "metadata": {},
   "source": [
    "#### Decision Tree"
   ]
  },
  {
   "cell_type": "code",
   "execution_count": 112,
   "metadata": {},
   "outputs": [
    {
     "name": "stdout",
     "output_type": "stream",
     "text": [
      "Decision Tree:\n",
      "\tTraining Accuracy: 0.8629916183107672\n",
      "\tTest Accuracy: 0.8473684210526315\n"
     ]
    }
   ],
   "source": [
    "dt = DecisionTreeClassifier(random_state=0).fit(X_train, y_train.astype(int))\n",
    "print('Decision Tree:')\n",
    "print('\\tTraining Accuracy:',dt.score(X_train, y_train.astype(int)))\n",
    "print('\\tTest Accuracy:',dt.score(X_test, y_test.astype(int)))"
   ]
  },
  {
   "cell_type": "markdown",
   "metadata": {},
   "source": [
    "## 1-2 Comparing the performance of the algorithm with different k"
   ]
  },
  {
   "cell_type": "markdown",
   "metadata": {},
   "source": [
    "### Protein Dataset"
   ]
  },
  {
   "cell_type": "code",
   "execution_count": 134,
   "metadata": {},
   "outputs": [
    {
     "name": "stdout",
     "output_type": "stream",
     "text": [
      "Current k:  5\n",
      "Current k:  10\n",
      "Current k:  20\n",
      "Current k:  30\n",
      "Current k:  40\n",
      "Current k:  50\n",
      "Current k:  60\n",
      "Current k:  70\n",
      "Current k:  80\n",
      "Current k:  90\n",
      "Current k:  100\n"
     ]
    },
    {
     "data": {
      "image/png": "[encoded data removed]",
      "text/plain": [
       "<Figure size 432x288 with 1 Axes>"
      ]
     },
     "metadata": {
      "needs_background": "light"
     },
     "output_type": "display_data"
    }
   ],
   "source": [
    "ds_positive=Dataset_Sequence('p-positive.txt')\n",
    "ds_negative=Dataset_Sequence('p-negative.txt')\n",
    "lr_train_acc=[]\n",
    "lr_test_acc=[]\n",
    "dt_train_acc=[]\n",
    "dt_test_acc=[]\n",
    "\n",
    "KS=[5,10,20,30,40,50,60,70,80,90,100]\n",
    "for k in KS:\n",
    "    print('Current k: ',k)\n",
    "    selected=topk_spade(ds_positive, ds_negative,k,printing=False) # finding top-k\n",
    "    frame=Create_df(selected,ds_positive.transactions,ds_negative.transactions)# creating the dataframe\n",
    "    X_train, X_test, y_train, y_test = train_test_split(frame.iloc[:,:-1], frame.iloc[:,-1], test_size=0.3, random_state=42)\n",
    "    \"\"\"\n",
    "    Logistic Regression\n",
    "    \"\"\"\n",
    "    lr = LogisticRegression(random_state=0).fit(X_train, y_train.astype(int))\n",
    "    lr_train_acc.append(lr.score(X_train, y_train.astype(int)))\n",
    "    lr_test_acc.append(lr.score(X_test, y_test.astype(int)))\n",
    "        \n",
    "    \"\"\"\n",
    "    Decision Tree\n",
    "    \"\"\"\n",
    "    dt = DecisionTreeClassifier(random_state=0).fit(X_train, y_train.astype(int))\n",
    "    dt_train_acc.append(dt.score(X_train, y_train.astype(int)))\n",
    "    dt_test_acc.append(dt.score(X_test, y_test.astype(int)))"
   ]
  },
  {
   "cell_type": "markdown",
   "metadata": {},
   "source": [
    "### Plotting"
   ]
  },
  {
   "cell_type": "code",
   "execution_count": 136,
   "metadata": {},
   "outputs": [
    {
     "data": {
      "image/png": "[encoded data removed]",
      "text/plain": [
       "<Figure size 432x288 with 1 Axes>"
      ]
     },
     "metadata": {
      "needs_background": "light"
     },
     "output_type": "display_data"
    },
    {
     "data": {
      "image/png": "[encoded data removed]",
      "text/plain": [
       "<Figure size 432x288 with 1 Axes>"
      ]
     },
     "metadata": {
      "needs_background": "light"
     },
     "output_type": "display_data"
    }
   ],
   "source": [
    "## Plotting\n",
    "plt.figure(1)\n",
    "plt.plot(KS,lr_train_acc,'->',label='Training Acc')\n",
    "plt.plot(KS,lr_test_acc,'--',label='Test Acc')\n",
    "plt.title('Protein- Logistic Regression')\n",
    "plt.xlabel('k')\n",
    "plt.ylabel('Accuracy')\n",
    "plt.legend()\n",
    "plt.savefig('Protein-supp-Logi.png')\n",
    "\n",
    "plt.figure(2)\n",
    "plt.plot(KS,dt_train_acc,'->',label='Training Acc')\n",
    "plt.plot(KS,dt_test_acc,'--',label='Test Acc')\n",
    "plt.title('Protein- Decision Tree')\n",
    "plt.xlabel('k')\n",
    "plt.ylabel('Accuracy')\n",
    "plt.legend()\n",
    "plt.savefig('Protein-supp-DecTr.png')"
   ]
  },
  {
   "cell_type": "markdown",
   "metadata": {},
   "source": [
    "### Reuters Dataset"
   ]
  },
  {
   "cell_type": "code",
   "execution_count": 137,
   "metadata": {},
   "outputs": [
    {
     "name": "stdout",
     "output_type": "stream",
     "text": [
      "Current k:  5\n",
      "Current k:  10\n",
      "Current k:  20\n",
      "Current k:  30\n",
      "Current k:  40\n",
      "Current k:  50\n",
      "Current k:  60\n",
      "Current k:  70\n",
      "Current k:  80\n",
      "Current k:  90\n",
      "Current k:  100\n"
     ]
    }
   ],
   "source": [
    "ds_positive=Dataset_Sequence('r-positive.txt')\n",
    "ds_negative=Dataset_Sequence('r-negative.txt')\n",
    "lr_train_acc=[]\n",
    "lr_test_acc=[]\n",
    "dt_train_acc=[]\n",
    "dt_test_acc=[]\n",
    "\n",
    "KS=[5,10,20,30,40,50,60,70,80,90,100]\n",
    "for k in KS:\n",
    "    print('Current k: ',k)\n",
    "    selected=topk_spade(ds_positive, ds_negative,k,printing=False) # finding top-k\n",
    "    frame=Create_df(selected,ds_positive.transactions,ds_negative.transactions)# creating the dataframe\n",
    "    X_train, X_test, y_train, y_test = train_test_split(frame.iloc[:,:-1], frame.iloc[:,-1], test_size=0.3, random_state=42)\n",
    "    \"\"\"\n",
    "    Logistic Regression\n",
    "    \"\"\"\n",
    "    lr = LogisticRegression(random_state=0).fit(X_train, y_train.astype(int))\n",
    "    lr_train_acc.append(lr.score(X_train, y_train.astype(int)))\n",
    "    lr_test_acc.append(lr.score(X_test, y_test.astype(int)))\n",
    "        \n",
    "    \"\"\"\n",
    "    Decision Tree\n",
    "    \"\"\"\n",
    "    dt = DecisionTreeClassifier(random_state=0).fit(X_train, y_train.astype(int))\n",
    "    dt_train_acc.append(dt.score(X_train, y_train.astype(int)))\n",
    "    dt_test_acc.append(dt.score(X_test, y_test.astype(int)))"
   ]
  },
  {
   "cell_type": "code",
   "execution_count": 138,
   "metadata": {},
   "outputs": [
    {
     "data": {
      "image/png": "[encoded data removed]",
      "text/plain": [
       "<Figure size 432x288 with 1 Axes>"
      ]
     },
     "metadata": {
      "needs_background": "light"
     },
     "output_type": "display_data"
    },
    {
     "data": {
      "image/png": "[encoded data removed]",
      "text/plain": [
       "<Figure size 432x288 with 1 Axes>"
      ]
     },
     "metadata": {
      "needs_background": "light"
     },
     "output_type": "display_data"
    }
   ],
   "source": [
    "## Plotting\n",
    "plt.figure(1)\n",
    "plt.plot(KS,lr_train_acc,'->',label='Training Acc')\n",
    "plt.plot(KS,lr_test_acc,'--',label='Test Acc')\n",
    "plt.title('Reuters- Logistic Regression')\n",
    "plt.xlabel('k')\n",
    "plt.ylabel('Accuracy')\n",
    "plt.legend()\n",
    "plt.savefig('Reuters-supp-Logi.png')\n",
    "\n",
    "plt.figure(2)\n",
    "plt.plot(KS,dt_train_acc,'->',label='Training Acc')\n",
    "plt.plot(KS,dt_test_acc,'--',label='Test Acc')\n",
    "plt.title('Reuters- Decision Tree')\n",
    "plt.xlabel('k')\n",
    "plt.ylabel('Accuracy')\n",
    "plt.legend()\n",
    "plt.savefig('Reuters-supp-DecTr.png')"
   ]
  },
  {
   "cell_type": "code",
   "execution_count": null,
   "metadata": {},
   "outputs": [],
   "source": []
  }
 ],
 "metadata": {
  "kernelspec": {
   "display_name": "Python 3",
   "language": "python",
   "name": "python3"
  },
  "language_info": {
   "codemirror_mode": {
    "name": "ipython",
    "version": 3
   },
   "file_extension": ".py",
   "mimetype": "text/x-python",
   "name": "python",
   "nbconvert_exporter": "python",
   "pygments_lexer": "ipython3",
   "version": "3.8.3"
  }
 },
 "nbformat": 4,
 "nbformat_minor": 4
}
