{
 "cells": [
  {
   "cell_type": "code",
   "execution_count": 5,
   "metadata": {},
   "outputs": [],
   "source": [
    "import pandas as pd\n",
    "from sklearn.model_selection import train_test_split\n",
    "from sklearn.linear_model import LogisticRegression\n",
    "from sklearn.tree import DecisionTreeClassifier\n",
    "from sklearn.model_selection import cross_val_score\n",
    "import matplotlib.pyplot as plt\n",
    "import numpy as np"
   ]
  },
  {
   "cell_type": "code",
   "execution_count": 57,
   "metadata": {},
   "outputs": [],
   "source": [
    "from f2_spade import *"
   ]
  },
  {
   "cell_type": "code",
   "execution_count": 58,
   "metadata": {},
   "outputs": [],
   "source": [
    "def k_select(positive_seqs,negative_seqs,k,P,N,total):\n",
    "    wracc_left=(P/total)*(N/total)\n",
    "    Positive_seq_Discoverd=set(positive_seqs.keys())\n",
    "    Negative_seq_Discoverd=set(negative_seqs.keys())\n",
    "    To_discovere=Positive_seq_Discoverd.union(Negative_seq_Discoverd)\n",
    "    sequences={}\n",
    "    # the following wracc_x is added to compute weighted relative accuracy (Wracc)\n",
    "    for sequence in To_discovere:\n",
    "        wracc_x=wracc_left*((positive_seqs.get(sequence,0)/P)-(negative_seqs.get(sequence,0)/N))\n",
    "        #sequences[sequence]=[positive_seqs.get(sequence,0),negative_seqs.get(sequence,0),np.round(wracc_x,5)]\n",
    "        sequences[sequence]=[positive_seqs.get(sequence,0),negative_seqs.get(sequence,0),np.round(wracc_x,5)]\n",
    "\n",
    "    sequences=sorted(sequences.items(), key=lambda item: item[1][2],reverse=True)\n",
    "    i=1\n",
    "    j=0\n",
    "    prev=sequences[0][1][2]\n",
    "    top_k_seq=[]\n",
    "    for sequence in sequences:\n",
    "        if sequence[1][2]!=prev:\n",
    "            i+=1\n",
    "            prev=sequence[1][2]\n",
    "        if i<=k:\n",
    "            #out='['+', '.join(list(sequence[0]))+']'\n",
    "            top_k_seq.append(sequence[0])\n",
    "            #print(out,sequence[1][0],sequence[1][1],sequence[1][2])\n",
    "            j+=1\n",
    "        else:\n",
    "            break\n",
    "    return top_k_seq"
   ]
  },
  {
   "cell_type": "markdown",
   "metadata": {},
   "source": [
    "# Example of running the algorithm to check if everything in f2_spade works"
   ]
  },
  {
   "cell_type": "code",
   "execution_count": 59,
   "metadata": {},
   "outputs": [],
   "source": [
    "# TODO: read the dataset files and call your miner to print the top k itemsets\n",
    "ds_positive=Dataset_Sequence('p-positive.txt')\n",
    "P=ds_positive.trans_num() #  The number of transactions in positive class\n",
    "ds_negative=Dataset_Sequence('p-negative.txt')\n",
    "N=ds_negative.trans_num() #  The number of transactions in negative class\n",
    "total=P+N\n",
    "#print('P=',P,\"N=\",N,'Total=',total)\n",
    "#print(ds_positive.transactions)\n",
    "positive_seqs=f2_spade(ds_positive, 0.2,printing=False)\n",
    "negative_seqs=f2_spade(ds_negative, 0.05,printing=False)\n",
    "top_k_seq=k_select(positive_seqs,negative_seqs,3,P,N,total)"
   ]
  },
  {
   "cell_type": "code",
   "execution_count": 60,
   "metadata": {},
   "outputs": [],
   "source": [
    "top_k_seq=k_select(positive_seqs,negative_seqs,10,P,N,total)"
   ]
  },
  {
   "cell_type": "code",
   "execution_count": 61,
   "metadata": {},
   "outputs": [
    {
     "data": {
      "text/plain": [
       "[('Y',),\n",
       " ('E', 'Y'),\n",
       " ('Y', 'G'),\n",
       " ('P', 'Y'),\n",
       " ('D', 'Y'),\n",
       " ('Y', 'V'),\n",
       " ('Y', 'D'),\n",
       " ('Y', 'Y'),\n",
       " ('Y', 'P'),\n",
       " ('Y', 'A')]"
      ]
     },
     "execution_count": 61,
     "metadata": {},
     "output_type": "execute_result"
    }
   ],
   "source": [
    "top_k_seq"
   ]
  },
  {
   "cell_type": "markdown",
   "metadata": {},
   "source": [
    "# Machine Learning Performance Comparision"
   ]
  },
  {
   "cell_type": "markdown",
   "metadata": {},
   "source": [
    "## 1- function for creating Pandas data frame"
   ]
  },
  {
   "cell_type": "code",
   "execution_count": 62,
   "metadata": {},
   "outputs": [],
   "source": [
    "def check_subsequence(a,b):\n",
    "    # This function check if b is a subsequence of a\n",
    "    # a is the possible supersequence\n",
    "    # b is the possible subsequence\n",
    "    try:\n",
    "        if len(b)<len(a):\n",
    "            start=a.index(b[0])\n",
    "            count=0\n",
    "            for idx in range(len(a)-start):\n",
    "                if count<len(b) and a[start+idx]==b[count]:\n",
    "                    count+=1\n",
    "            if count==len(b):\n",
    "                return True\n",
    "        return False\n",
    "    except:\n",
    "        return False"
   ]
  },
  {
   "cell_type": "code",
   "execution_count": 63,
   "metadata": {},
   "outputs": [],
   "source": [
    "def Create_df(seqList,positiveTrans,negativeTrans):\n",
    "    '''\n",
    "    seqList=[]\n",
    "    for i in selected:\n",
    "        seqs=list(selected[i])\n",
    "        for seq in seqs:\n",
    "            seqList.append(seq)\n",
    "    '''\n",
    "    frame = pd.DataFrame(columns = seqList+['label'])\n",
    "    counter=0\n",
    "    # Adding Positive Class\n",
    "    for transaction in positiveTrans:\n",
    "        seqObserved=[]\n",
    "        for seq in seqList:\n",
    "            seqObserved.append(int(check_subsequence(transaction,seq)))\n",
    "        seqObserved.append(True)\n",
    "        frame.loc[counter]=seqObserved\n",
    "        counter+=1\n",
    "    # Adding Negative Class\n",
    "    for transaction in negativeTrans:\n",
    "        seqObserved=[]\n",
    "        for seq in seqList:\n",
    "            seqObserved.append(int(check_subsequence(transaction,seq)))\n",
    "        seqObserved.append(False)\n",
    "        frame.loc[counter]=seqObserved\n",
    "        counter+=1\n",
    "    frame = frame.sample(frac=1).reset_index(drop=True)\n",
    "    return frame"
   ]
  },
  {
   "cell_type": "code",
   "execution_count": 64,
   "metadata": {},
   "outputs": [],
   "source": [
    "# TODO: read the dataset files and call your miner to print the top k itemsets\n",
    "ds_positive=Dataset_Sequence('positive.txt')\n",
    "P=ds_positive.trans_num() #  The number of transactions in positive class\n",
    "ds_negative=Dataset_Sequence('negative.txt')\n",
    "N=ds_negative.trans_num() #  The number of transactions in negative class\n",
    "total=P+N\n",
    "#print('P=',P,\"N=\",N,'Total=',total)\n",
    "#print(ds_positive.transactions)\n",
    "positive_seqs=f2_spade(ds_positive, 0.2,printing=False)\n",
    "negative_seqs=f2_spade(ds_negative, 0.05,printing=False)\n",
    "top_k_seq=k_select(positive_seqs,negative_seqs,3,P,N,total)"
   ]
  },
  {
   "cell_type": "code",
   "execution_count": 65,
   "metadata": {},
   "outputs": [],
   "source": [
    "frame=Create_df(top_k_seq,ds_positive.transactions,ds_negative.transactions)"
   ]
  },
  {
   "cell_type": "code",
   "execution_count": 66,
   "metadata": {},
   "outputs": [
    {
     "data": {
      "text/html": [
       "<div>\n",
       "<style scoped>\n",
       "    .dataframe tbody tr th:only-of-type {\n",
       "        vertical-align: middle;\n",
       "    }\n",
       "\n",
       "    .dataframe tbody tr th {\n",
       "        vertical-align: top;\n",
       "    }\n",
       "\n",
       "    .dataframe thead th {\n",
       "        text-align: right;\n",
       "    }\n",
       "</style>\n",
       "<table border=\"1\" class=\"dataframe\">\n",
       "  <thead>\n",
       "    <tr style=\"text-align: right;\">\n",
       "      <th></th>\n",
       "      <th>(A, A, C)</th>\n",
       "      <th>(A, A, A)</th>\n",
       "      <th>(A, A, C, A)</th>\n",
       "      <th>(A, C)</th>\n",
       "      <th>(A, C, A)</th>\n",
       "      <th>(A, C, C, A)</th>\n",
       "      <th>(A, C, C)</th>\n",
       "      <th>(A, B, A)</th>\n",
       "      <th>label</th>\n",
       "    </tr>\n",
       "  </thead>\n",
       "  <tbody>\n",
       "    <tr>\n",
       "      <th>5</th>\n",
       "      <td>1</td>\n",
       "      <td>1</td>\n",
       "      <td>1</td>\n",
       "      <td>1</td>\n",
       "      <td>1</td>\n",
       "      <td>1</td>\n",
       "      <td>1</td>\n",
       "      <td>0</td>\n",
       "      <td>True</td>\n",
       "    </tr>\n",
       "    <tr>\n",
       "      <th>0</th>\n",
       "      <td>0</td>\n",
       "      <td>0</td>\n",
       "      <td>0</td>\n",
       "      <td>0</td>\n",
       "      <td>0</td>\n",
       "      <td>0</td>\n",
       "      <td>0</td>\n",
       "      <td>0</td>\n",
       "      <td>False</td>\n",
       "    </tr>\n",
       "    <tr>\n",
       "      <th>1</th>\n",
       "      <td>0</td>\n",
       "      <td>0</td>\n",
       "      <td>0</td>\n",
       "      <td>1</td>\n",
       "      <td>1</td>\n",
       "      <td>1</td>\n",
       "      <td>1</td>\n",
       "      <td>1</td>\n",
       "      <td>False</td>\n",
       "    </tr>\n",
       "    <tr>\n",
       "      <th>6</th>\n",
       "      <td>0</td>\n",
       "      <td>0</td>\n",
       "      <td>0</td>\n",
       "      <td>1</td>\n",
       "      <td>1</td>\n",
       "      <td>1</td>\n",
       "      <td>1</td>\n",
       "      <td>1</td>\n",
       "      <td>True</td>\n",
       "    </tr>\n",
       "    <tr>\n",
       "      <th>4</th>\n",
       "      <td>1</td>\n",
       "      <td>1</td>\n",
       "      <td>1</td>\n",
       "      <td>1</td>\n",
       "      <td>1</td>\n",
       "      <td>1</td>\n",
       "      <td>1</td>\n",
       "      <td>1</td>\n",
       "      <td>True</td>\n",
       "    </tr>\n",
       "  </tbody>\n",
       "</table>\n",
       "</div>"
      ],
      "text/plain": [
       "  (A, A, C) (A, A, A) (A, A, C, A) (A, C) (A, C, A) (A, C, C, A) (A, C, C)  \\\n",
       "5         1         1            1      1         1            1         1   \n",
       "0         0         0            0      0         0            0         0   \n",
       "1         0         0            0      1         1            1         1   \n",
       "6         0         0            0      1         1            1         1   \n",
       "4         1         1            1      1         1            1         1   \n",
       "\n",
       "  (A, B, A)  label  \n",
       "5         0   True  \n",
       "0         0  False  \n",
       "1         1  False  \n",
       "6         1   True  \n",
       "4         1   True  "
      ]
     },
     "execution_count": 66,
     "metadata": {},
     "output_type": "execute_result"
    }
   ],
   "source": [
    "frame.sample(5)"
   ]
  },
  {
   "cell_type": "markdown",
   "metadata": {},
   "source": [
    "### 1-1 Running Experiment on Machine Learning (Example) (Logistic Regression and Decision Tree)"
   ]
  },
  {
   "cell_type": "markdown",
   "metadata": {},
   "source": [
    "#### 1-1-1 Protein Dataset with k=10"
   ]
  },
  {
   "cell_type": "code",
   "execution_count": 85,
   "metadata": {},
   "outputs": [],
   "source": [
    "# TODO: read the dataset files and call your miner to print the top k itemsets\n",
    "ds_positive=Dataset_Sequence('p-positive.txt')\n",
    "P=ds_positive.trans_num() #  The number of transactions in positive class\n",
    "ds_negative=Dataset_Sequence('p-negative.txt')\n",
    "N=ds_negative.trans_num() #  The number of transactions in negative class\n",
    "total=P+N\n",
    "#print('P=',P,\"N=\",N,'Total=',total)\n",
    "#print(ds_positive.transactions)\n",
    "positive_seqs=f2_spade(ds_positive, 0.2,printing=False)\n",
    "negative_seqs=f2_spade(ds_negative, 0.05,printing=False)\n",
    "top_k_seq=k_select(positive_seqs,negative_seqs,10,P,N,total)\n",
    "frame=Create_df(top_k_seq,ds_positive.transactions,ds_negative.transactions)"
   ]
  },
  {
   "cell_type": "code",
   "execution_count": 86,
   "metadata": {},
   "outputs": [
    {
     "data": {
      "text/html": [
       "<div>\n",
       "<style scoped>\n",
       "    .dataframe tbody tr th:only-of-type {\n",
       "        vertical-align: middle;\n",
       "    }\n",
       "\n",
       "    .dataframe tbody tr th {\n",
       "        vertical-align: top;\n",
       "    }\n",
       "\n",
       "    .dataframe thead th {\n",
       "        text-align: right;\n",
       "    }\n",
       "</style>\n",
       "<table border=\"1\" class=\"dataframe\">\n",
       "  <thead>\n",
       "    <tr style=\"text-align: right;\">\n",
       "      <th></th>\n",
       "      <th>(Y,)</th>\n",
       "      <th>(E, Y)</th>\n",
       "      <th>(Y, G)</th>\n",
       "      <th>(P, Y)</th>\n",
       "      <th>(D, Y)</th>\n",
       "      <th>(Y, V)</th>\n",
       "      <th>(Y, D)</th>\n",
       "      <th>(Y, Y)</th>\n",
       "      <th>(Y, P)</th>\n",
       "      <th>(Y, A)</th>\n",
       "      <th>label</th>\n",
       "    </tr>\n",
       "  </thead>\n",
       "  <tbody>\n",
       "    <tr>\n",
       "      <th>639</th>\n",
       "      <td>0</td>\n",
       "      <td>0</td>\n",
       "      <td>0</td>\n",
       "      <td>0</td>\n",
       "      <td>0</td>\n",
       "      <td>0</td>\n",
       "      <td>0</td>\n",
       "      <td>0</td>\n",
       "      <td>0</td>\n",
       "      <td>0</td>\n",
       "      <td>False</td>\n",
       "    </tr>\n",
       "    <tr>\n",
       "      <th>682</th>\n",
       "      <td>1</td>\n",
       "      <td>0</td>\n",
       "      <td>1</td>\n",
       "      <td>1</td>\n",
       "      <td>1</td>\n",
       "      <td>1</td>\n",
       "      <td>1</td>\n",
       "      <td>1</td>\n",
       "      <td>0</td>\n",
       "      <td>0</td>\n",
       "      <td>True</td>\n",
       "    </tr>\n",
       "    <tr>\n",
       "      <th>395</th>\n",
       "      <td>1</td>\n",
       "      <td>0</td>\n",
       "      <td>1</td>\n",
       "      <td>1</td>\n",
       "      <td>1</td>\n",
       "      <td>1</td>\n",
       "      <td>0</td>\n",
       "      <td>0</td>\n",
       "      <td>0</td>\n",
       "      <td>1</td>\n",
       "      <td>True</td>\n",
       "    </tr>\n",
       "    <tr>\n",
       "      <th>375</th>\n",
       "      <td>1</td>\n",
       "      <td>1</td>\n",
       "      <td>0</td>\n",
       "      <td>0</td>\n",
       "      <td>0</td>\n",
       "      <td>0</td>\n",
       "      <td>0</td>\n",
       "      <td>0</td>\n",
       "      <td>0</td>\n",
       "      <td>0</td>\n",
       "      <td>False</td>\n",
       "    </tr>\n",
       "    <tr>\n",
       "      <th>144</th>\n",
       "      <td>1</td>\n",
       "      <td>0</td>\n",
       "      <td>1</td>\n",
       "      <td>0</td>\n",
       "      <td>1</td>\n",
       "      <td>1</td>\n",
       "      <td>1</td>\n",
       "      <td>1</td>\n",
       "      <td>1</td>\n",
       "      <td>0</td>\n",
       "      <td>True</td>\n",
       "    </tr>\n",
       "  </tbody>\n",
       "</table>\n",
       "</div>"
      ],
      "text/plain": [
       "    (Y,) (E, Y) (Y, G) (P, Y) (D, Y) (Y, V) (Y, D) (Y, Y) (Y, P) (Y, A)  label\n",
       "639    0      0      0      0      0      0      0      0      0      0  False\n",
       "682    1      0      1      1      1      1      1      1      0      0   True\n",
       "395    1      0      1      1      1      1      0      0      0      1   True\n",
       "375    1      1      0      0      0      0      0      0      0      0  False\n",
       "144    1      0      1      0      1      1      1      1      1      0   True"
      ]
     },
     "execution_count": 86,
     "metadata": {},
     "output_type": "execute_result"
    }
   ],
   "source": [
    "frame.sample(5)"
   ]
  },
  {
   "cell_type": "code",
   "execution_count": 87,
   "metadata": {},
   "outputs": [
    {
     "data": {
      "text/plain": [
       "<matplotlib.axes._subplots.AxesSubplot at 0x13b6dd5fc10>"
      ]
     },
     "execution_count": 87,
     "metadata": {},
     "output_type": "execute_result"
    },
    {
     "data": {
      "image/png": "[encoded data removed]",
      "text/plain": [
       "<Figure size 432x288 with 1 Axes>"
      ]
     },
     "metadata": {
      "needs_background": "light"
     },
     "output_type": "display_data"
    }
   ],
   "source": [
    "frame.groupby(by='label').count().plot(kind='bar')"
   ]
  },
  {
   "cell_type": "code",
   "execution_count": 88,
   "metadata": {},
   "outputs": [],
   "source": [
    " X_train, X_test, y_train, y_test = train_test_split(frame.iloc[:,:-1], frame.iloc[:,-1], test_size=0.3, random_state=42)"
   ]
  },
  {
   "cell_type": "markdown",
   "metadata": {},
   "source": [
    "##### Logistic Regression"
   ]
  },
  {
   "cell_type": "code",
   "execution_count": 89,
   "metadata": {},
   "outputs": [
    {
     "name": "stdout",
     "output_type": "stream",
     "text": [
      "Logistic Regression:\n",
      "\tTraining Accuracy: 0.9156378600823045\n",
      "\tTest Accuracy: 0.8899521531100478\n"
     ]
    }
   ],
   "source": [
    "lr = LogisticRegression(random_state=0).fit(X_train, y_train.astype(int))\n",
    "print('Logistic Regression:')\n",
    "print('\\tTraining Accuracy:',lr.score(X_train, y_train.astype(int)))\n",
    "print('\\tTest Accuracy:',lr.score(X_test, y_test.astype(int)))"
   ]
  },
  {
   "cell_type": "markdown",
   "metadata": {},
   "source": [
    "#### Decision Tree"
   ]
  },
  {
   "cell_type": "code",
   "execution_count": 90,
   "metadata": {},
   "outputs": [
    {
     "name": "stdout",
     "output_type": "stream",
     "text": [
      "Decision Tree:\n",
      "\tTraining Accuracy: 0.977366255144033\n",
      "\tTest Accuracy: 0.9138755980861244\n"
     ]
    }
   ],
   "source": [
    "dt = DecisionTreeClassifier(random_state=0).fit(X_train, y_train.astype(int))\n",
    "print('Decision Tree:')\n",
    "print('\\tTraining Accuracy:',dt.score(X_train, y_train.astype(int)))\n",
    "print('\\tTest Accuracy:',dt.score(X_test, y_test.astype(int)))"
   ]
  },
  {
   "cell_type": "markdown",
   "metadata": {},
   "source": [
    "#### 1-1-2 Reuters Dataset with k=10"
   ]
  },
  {
   "cell_type": "code",
   "execution_count": 98,
   "metadata": {},
   "outputs": [],
   "source": [
    "# TODO: read the dataset files and call your miner to print the top k itemsets\n",
    "ds_positive=Dataset_Sequence('r-positive.txt')\n",
    "P=ds_positive.trans_num() #  The number of transactions in positive class\n",
    "ds_negative=Dataset_Sequence('r-negative.txt')\n",
    "N=ds_negative.trans_num() #  The number of transactions in negative class\n",
    "total=P+N\n",
    "#print('P=',P,\"N=\",N,'Total=',total)\n",
    "#print(ds_positive.transactions)\n",
    "positive_seqs=f2_spade(ds_positive, 0.2,printing=False)\n",
    "negative_seqs=f2_spade(ds_negative, 0.05,printing=False)\n",
    "top_k_seq=k_select(positive_seqs,negative_seqs,10,P,N,total)\n",
    "frame=Create_df(top_k_seq,ds_positive.transactions,ds_negative.transactions)"
   ]
  },
  {
   "cell_type": "code",
   "execution_count": 99,
   "metadata": {},
   "outputs": [
    {
     "data": {
      "text/html": [
       "<div>\n",
       "<style scoped>\n",
       "    .dataframe tbody tr th:only-of-type {\n",
       "        vertical-align: middle;\n",
       "    }\n",
       "\n",
       "    .dataframe tbody tr th {\n",
       "        vertical-align: top;\n",
       "    }\n",
       "\n",
       "    .dataframe thead th {\n",
       "        text-align: right;\n",
       "    }\n",
       "</style>\n",
       "<table border=\"1\" class=\"dataframe\">\n",
       "  <thead>\n",
       "    <tr style=\"text-align: right;\">\n",
       "      <th></th>\n",
       "      <th>(ct,)</th>\n",
       "      <th>(ct, reuter)</th>\n",
       "      <th>(ct, ct)</th>\n",
       "      <th>(net,)</th>\n",
       "      <th>(ct, ct, reuter)</th>\n",
       "      <th>(net, reuter)</th>\n",
       "      <th>(shr,)</th>\n",
       "      <th>(shr, reuter)</th>\n",
       "      <th>(shr, net)</th>\n",
       "      <th>(net, net, reuter)</th>\n",
       "      <th>label</th>\n",
       "    </tr>\n",
       "  </thead>\n",
       "  <tbody>\n",
       "    <tr>\n",
       "      <th>3750</th>\n",
       "      <td>1</td>\n",
       "      <td>1</td>\n",
       "      <td>1</td>\n",
       "      <td>0</td>\n",
       "      <td>1</td>\n",
       "      <td>0</td>\n",
       "      <td>0</td>\n",
       "      <td>0</td>\n",
       "      <td>0</td>\n",
       "      <td>0</td>\n",
       "      <td>True</td>\n",
       "    </tr>\n",
       "    <tr>\n",
       "      <th>2319</th>\n",
       "      <td>0</td>\n",
       "      <td>0</td>\n",
       "      <td>0</td>\n",
       "      <td>0</td>\n",
       "      <td>0</td>\n",
       "      <td>0</td>\n",
       "      <td>0</td>\n",
       "      <td>0</td>\n",
       "      <td>0</td>\n",
       "      <td>0</td>\n",
       "      <td>False</td>\n",
       "    </tr>\n",
       "    <tr>\n",
       "      <th>1066</th>\n",
       "      <td>1</td>\n",
       "      <td>1</td>\n",
       "      <td>1</td>\n",
       "      <td>1</td>\n",
       "      <td>1</td>\n",
       "      <td>1</td>\n",
       "      <td>1</td>\n",
       "      <td>1</td>\n",
       "      <td>1</td>\n",
       "      <td>1</td>\n",
       "      <td>True</td>\n",
       "    </tr>\n",
       "    <tr>\n",
       "      <th>3210</th>\n",
       "      <td>1</td>\n",
       "      <td>1</td>\n",
       "      <td>1</td>\n",
       "      <td>0</td>\n",
       "      <td>1</td>\n",
       "      <td>0</td>\n",
       "      <td>0</td>\n",
       "      <td>0</td>\n",
       "      <td>0</td>\n",
       "      <td>0</td>\n",
       "      <td>True</td>\n",
       "    </tr>\n",
       "    <tr>\n",
       "      <th>3537</th>\n",
       "      <td>1</td>\n",
       "      <td>1</td>\n",
       "      <td>1</td>\n",
       "      <td>1</td>\n",
       "      <td>1</td>\n",
       "      <td>1</td>\n",
       "      <td>1</td>\n",
       "      <td>1</td>\n",
       "      <td>1</td>\n",
       "      <td>1</td>\n",
       "      <td>True</td>\n",
       "    </tr>\n",
       "  </tbody>\n",
       "</table>\n",
       "</div>"
      ],
      "text/plain": [
       "     (ct,) (ct, reuter) (ct, ct) (net,) (ct, ct, reuter) (net, reuter) (shr,)  \\\n",
       "3750     1            1        1      0                1             0      0   \n",
       "2319     0            0        0      0                0             0      0   \n",
       "1066     1            1        1      1                1             1      1   \n",
       "3210     1            1        1      0                1             0      0   \n",
       "3537     1            1        1      1                1             1      1   \n",
       "\n",
       "     (shr, reuter) (shr, net) (net, net, reuter)  label  \n",
       "3750             0          0                  0   True  \n",
       "2319             0          0                  0  False  \n",
       "1066             1          1                  1   True  \n",
       "3210             0          0                  0   True  \n",
       "3537             1          1                  1   True  "
      ]
     },
     "execution_count": 99,
     "metadata": {},
     "output_type": "execute_result"
    }
   ],
   "source": [
    "frame.sample(5)"
   ]
  },
  {
   "cell_type": "code",
   "execution_count": 100,
   "metadata": {},
   "outputs": [
    {
     "data": {
      "text/plain": [
       "<matplotlib.axes._subplots.AxesSubplot at 0x13b14ff6e20>"
      ]
     },
     "execution_count": 100,
     "metadata": {},
     "output_type": "execute_result"
    },
    {
     "data": {
      "image/png": "[encoded data removed]",
      "text/plain": [
       "<Figure size 432x288 with 1 Axes>"
      ]
     },
     "metadata": {
      "needs_background": "light"
     },
     "output_type": "display_data"
    }
   ],
   "source": [
    "frame.groupby(by='label').count().plot(kind='bar')"
   ]
  },
  {
   "cell_type": "code",
   "execution_count": 101,
   "metadata": {},
   "outputs": [],
   "source": [
    " X_train, X_test, y_train, y_test = train_test_split(frame.iloc[:,:-1], frame.iloc[:,-1], test_size=0.3, random_state=42)"
   ]
  },
  {
   "cell_type": "markdown",
   "metadata": {},
   "source": [
    "##### Logistic Regression"
   ]
  },
  {
   "cell_type": "code",
   "execution_count": 102,
   "metadata": {},
   "outputs": [
    {
     "name": "stdout",
     "output_type": "stream",
     "text": [
      "Logistic Regression:\n",
      "\tTraining Accuracy: 0.8907156673114119\n",
      "\tTest Accuracy: 0.8894736842105263\n"
     ]
    }
   ],
   "source": [
    "lr = LogisticRegression(random_state=0).fit(X_train, y_train.astype(int))\n",
    "print('Logistic Regression:')\n",
    "print('\\tTraining Accuracy:',lr.score(X_train, y_train.astype(int)))\n",
    "print('\\tTest Accuracy:',lr.score(X_test, y_test.astype(int)))"
   ]
  },
  {
   "cell_type": "markdown",
   "metadata": {},
   "source": [
    "#### Decision Tree"
   ]
  },
  {
   "cell_type": "code",
   "execution_count": 103,
   "metadata": {},
   "outputs": [
    {
     "name": "stdout",
     "output_type": "stream",
     "text": [
      "Decision Tree:\n",
      "\tTraining Accuracy: 0.8907156673114119\n",
      "\tTest Accuracy: 0.8894736842105263\n"
     ]
    }
   ],
   "source": [
    "dt = DecisionTreeClassifier(random_state=0).fit(X_train, y_train.astype(int))\n",
    "print('Decision Tree:')\n",
    "print('\\tTraining Accuracy:',dt.score(X_train, y_train.astype(int)))\n",
    "print('\\tTest Accuracy:',dt.score(X_test, y_test.astype(int)))"
   ]
  },
  {
   "cell_type": "markdown",
   "metadata": {},
   "source": [
    "## 1-2 Comparing the performance of the algorithm (wracc) with different k"
   ]
  },
  {
   "cell_type": "markdown",
   "metadata": {},
   "source": [
    "### Protein Dataset"
   ]
  },
  {
   "cell_type": "code",
   "execution_count": 106,
   "metadata": {},
   "outputs": [],
   "source": [
    "lr_train_acc=[]\n",
    "lr_test_acc=[]\n",
    "dt_train_acc=[]\n",
    "dt_test_acc=[]\n",
    "\n",
    "# Finding all candidate sequence\n",
    "ds_positive=Dataset_Sequence('p-positive.txt')\n",
    "P=ds_positive.trans_num() #  The number of transactions in positive class\n",
    "ds_negative=Dataset_Sequence('p-negative.txt')\n",
    "N=ds_negative.trans_num() #  The number of transactions in negative class\n",
    "total=P+N\n",
    "#print('P=',P,\"N=\",N,'Total=',total)\n",
    "#print(ds_positive.transactions)\n",
    "positive_seqs=f2_spade(ds_positive, 0.2,printing=False)\n",
    "negative_seqs=f2_spade(ds_negative, 0.05,printing=False)"
   ]
  },
  {
   "cell_type": "code",
   "execution_count": 107,
   "metadata": {},
   "outputs": [
    {
     "name": "stdout",
     "output_type": "stream",
     "text": [
      "Current k:  5\n",
      "Current k:  10\n",
      "Current k:  20\n",
      "Current k:  30\n",
      "Current k:  40\n",
      "Current k:  50\n",
      "Current k:  60\n",
      "Current k:  70\n",
      "Current k:  80\n",
      "Current k:  90\n",
      "Current k:  100\n"
     ]
    }
   ],
   "source": [
    "\n",
    "KS=[5,10,20,30,40,50,60,70,80,90,100]\n",
    "for k in KS:\n",
    "    print('Current k: ',k)\n",
    "    top_k_seq=k_select(positive_seqs,negative_seqs,k,P,N,total)# finding top-k\n",
    "    frame=Create_df(top_k_seq,ds_positive.transactions,ds_negative.transactions)# creating the dataframe\n",
    "    X_train, X_test, y_train, y_test = train_test_split(frame.iloc[:,:-1], frame.iloc[:,-1], test_size=0.3, random_state=42)\n",
    "    \"\"\"\n",
    "    Logistic Regression\n",
    "    \"\"\"\n",
    "    lr = LogisticRegression(random_state=0).fit(X_train, y_train.astype(int))\n",
    "    lr_train_acc.append(lr.score(X_train, y_train.astype(int)))\n",
    "    lr_test_acc.append(lr.score(X_test, y_test.astype(int)))\n",
    "        \n",
    "    \"\"\"\n",
    "    Decision Tree\n",
    "    \"\"\"\n",
    "    dt = DecisionTreeClassifier(random_state=0).fit(X_train, y_train.astype(int))\n",
    "    dt_train_acc.append(dt.score(X_train, y_train.astype(int)))\n",
    "    dt_test_acc.append(dt.score(X_test, y_test.astype(int)))"
   ]
  },
  {
   "cell_type": "code",
   "execution_count": 108,
   "metadata": {},
   "outputs": [
    {
     "data": {
      "image/png": "[encoded data removed]",
      "text/plain": [
       "<Figure size 432x288 with 1 Axes>"
      ]
     },
     "metadata": {
      "needs_background": "light"
     },
     "output_type": "display_data"
    },
    {
     "data": {
      "image/png": "[encoded data removed]",
      "text/plain": [
       "<Figure size 432x288 with 1 Axes>"
      ]
     },
     "metadata": {
      "needs_background": "light"
     },
     "output_type": "display_data"
    }
   ],
   "source": [
    "\n"
   ]
  },
  {
   "cell_type": "markdown",
   "metadata": {},
   "source": [
    "### Reuters Dataset"
   ]
  },
  {
   "cell_type": "code",
   "execution_count": 109,
   "metadata": {},
   "outputs": [],
   "source": [
    "lr_train_acc=[]\n",
    "lr_test_acc=[]\n",
    "dt_train_acc=[]\n",
    "dt_test_acc=[]\n",
    "\n",
    "# Finding all candidate sequence\n",
    "ds_positive=Dataset_Sequence('r-positive.txt')\n",
    "P=ds_positive.trans_num() #  The number of transactions in positive class\n",
    "ds_negative=Dataset_Sequence('r-negative.txt')\n",
    "N=ds_negative.trans_num() #  The number of transactions in negative class\n",
    "total=P+N\n",
    "#print('P=',P,\"N=\",N,'Total=',total)\n",
    "#print(ds_positive.transactions)\n",
    "positive_seqs=f2_spade(ds_positive, 0.2,printing=False)\n",
    "negative_seqs=f2_spade(ds_negative, 0.05,printing=False)\n"
   ]
  },
  {
   "cell_type": "code",
   "execution_count": 110,
   "metadata": {},
   "outputs": [
    {
     "name": "stdout",
     "output_type": "stream",
     "text": [
      "Current k:  5\n",
      "Current k:  10\n",
      "Current k:  20\n",
      "Current k:  30\n",
      "Current k:  40\n",
      "Current k:  50\n",
      "Current k:  60\n",
      "Current k:  70\n",
      "Current k:  80\n",
      "Current k:  90\n",
      "Current k:  100\n"
     ]
    }
   ],
   "source": [
    "\n",
    "KS=[5,10,20,30,40,50,60,70,80,90,100]\n",
    "for k in KS:\n",
    "    print('Current k: ',k)\n",
    "    top_k_seq=k_select(positive_seqs,negative_seqs,k,P,N,total)# finding top-k\n",
    "    frame=Create_df(top_k_seq,ds_positive.transactions,ds_negative.transactions)# creating the dataframe\n",
    "    X_train, X_test, y_train, y_test = train_test_split(frame.iloc[:,:-1], frame.iloc[:,-1], test_size=0.3, random_state=42)\n",
    "    \"\"\"\n",
    "    Logistic Regression\n",
    "    \"\"\"\n",
    "    lr = LogisticRegression(random_state=0).fit(X_train, y_train.astype(int))\n",
    "    lr_train_acc.append(lr.score(X_train, y_train.astype(int)))\n",
    "    lr_test_acc.append(lr.score(X_test, y_test.astype(int)))\n",
    "        \n",
    "    \"\"\"\n",
    "    Decision Tree\n",
    "    \"\"\"\n",
    "    dt = DecisionTreeClassifier(random_state=0).fit(X_train, y_train.astype(int))\n",
    "    dt_train_acc.append(dt.score(X_train, y_train.astype(int)))\n",
    "    dt_test_acc.append(dt.score(X_test, y_test.astype(int)))"
   ]
  },
  {
   "cell_type": "code",
   "execution_count": 111,
   "metadata": {},
   "outputs": [
    {
     "data": {
      "image/png": "[encoded data removed]",
      "text/plain": [
       "<Figure size 432x288 with 1 Axes>"
      ]
     },
     "metadata": {
      "needs_background": "light"
     },
     "output_type": "display_data"
    },
    {
     "data": {
      "image/png": "[encoded data removed]",
      "text/plain": [
       "<Figure size 432x288 with 1 Axes>"
      ]
     },
     "metadata": {
      "needs_background": "light"
     },
     "output_type": "display_data"
    }
   ],
   "source": [
    "## Plotting\n",
    "plt.figure(1)\n",
    "plt.plot(KS,lr_train_acc,'->',label='Training Acc')\n",
    "plt.plot(KS,lr_test_acc,'--',label='Test Acc')\n",
    "plt.title('Reuters- Logistic Regression')\n",
    "plt.xlabel('k')\n",
    "plt.ylabel('Accuracy')\n",
    "plt.legend()\n",
    "plt.savefig('Reuters-wracc-Logi.png')\n",
    "\n",
    "plt.figure(2)\n",
    "plt.plot(KS,dt_train_acc,'->',label='Training Acc')\n",
    "plt.plot(KS,dt_test_acc,'--',label='Test Acc')\n",
    "plt.title('Reuters- Decision Tree')\n",
    "plt.xlabel('k')\n",
    "plt.ylabel('Accuracy')\n",
    "plt.legend()\n",
    "plt.savefig('Reuters-wracc-DecTr.png')"
   ]
  },
  {
   "cell_type": "code",
   "execution_count": null,
   "metadata": {},
   "outputs": [],
   "source": []
  }
 ],
 "metadata": {
  "kernelspec": {
   "display_name": "Python 3",
   "language": "python",
   "name": "python3"
  },
  "language_info": {
   "codemirror_mode": {
    "name": "ipython",
    "version": 3
   },
   "file_extension": ".py",
   "mimetype": "text/x-python",
   "name": "python",
   "nbconvert_exporter": "python",
   "pygments_lexer": "ipython3",
   "version": "3.8.3"
  }
 },
 "nbformat": 4,
 "nbformat_minor": 4
}
