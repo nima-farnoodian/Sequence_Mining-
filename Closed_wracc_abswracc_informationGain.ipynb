{
 "cells": [
  {
   "cell_type": "code",
   "execution_count": 38,
   "metadata": {},
   "outputs": [],
   "source": [
    "import pandas as pd\n",
    "from sklearn.model_selection import train_test_split\n",
    "from sklearn.linear_model import LogisticRegression\n",
    "from sklearn.tree import DecisionTreeClassifier\n",
    "from sklearn.model_selection import cross_val_score\n",
    "import matplotlib.pyplot as plt\n",
    "import numpy as np"
   ]
  },
  {
   "cell_type": "code",
   "execution_count": 39,
   "metadata": {},
   "outputs": [],
   "source": [
    "from f2_spade import *"
   ]
  },
  {
   "cell_type": "code",
   "execution_count": 40,
   "metadata": {},
   "outputs": [],
   "source": [
    "def imp(x):\n",
    "    if(x == 1 or x == 0):\n",
    "        return 0\n",
    "    return -(x*np.log2(x))-((1-x)*np.log2(1-x))\n",
    "    #return x*(1-x)\n"
   ]
  },
  {
   "cell_type": "code",
   "execution_count": 41,
   "metadata": {},
   "outputs": [],
   "source": [
    "def check_subsequence(a,b):\n",
    "    # This function check if b is a subsequence of a\n",
    "    # a is the possible supersequence\n",
    "    # b is the possible subsequence\n",
    "    try:\n",
    "        if len(b)<len(a):\n",
    "            start=a.index(b[0])\n",
    "            count=0\n",
    "            for idx in range(len(a)-start):\n",
    "                if count<len(b) and a[start+idx]==b[count]:\n",
    "                    count+=1\n",
    "            if count==len(b):\n",
    "                return True\n",
    "        return False\n",
    "    except:\n",
    "        return False"
   ]
  },
  {
   "cell_type": "code",
   "execution_count": 42,
   "metadata": {},
   "outputs": [],
   "source": [
    "def k_select_closed(positive_seqs,negative_seqs,k,P,N,total,score_type='wracc', printing=False):\n",
    "    '''\n",
    "    This function finds tok-k closed sequences with respect to a score defined by score_type ('wracc','abswracc','infogain')\n",
    "    '''\n",
    "    wracc_left=(P/total)*(N/total)\n",
    "    Positive_seq_Discoverd=set(positive_seqs.keys())\n",
    "    Negative_seq_Discoverd=set(negative_seqs.keys())\n",
    "    To_discover=Positive_seq_Discoverd.union(Negative_seq_Discoverd)\n",
    "    sequences={}\n",
    "    \n",
    "    for sequence in To_discover:\n",
    "        p=positive_seqs.get(sequence,0)\n",
    "        n=negative_seqs.get(sequence,0)\n",
    "        if score_type=='wracc':\n",
    "            score=wracc_left*((p/P)-(n/N))\n",
    "        elif score_type=='abswracc':\n",
    "            score=abs(wracc_left*((p/P)-(n/N)))\n",
    "        elif score_type=='infogain':\n",
    "\n",
    "            score=imp(P/total)-(((p+n)/(total))*imp(p/(p+n)))\n",
    "            if (P != p or N!= n):\n",
    "                #print((((P+N-p-n)/(total))*imp((P-p)/(P+N-p-n))))\n",
    "                score-=(((P+N-p-n)/(total))*imp((P-p)/(P+N-p-n)))\n",
    "        sequences[sequence]=[p,n,np.round(score,5),p+n]\n",
    "    \n",
    "    sorted_sequences=sorted(sequences.items(), key=lambda item: item[1][2],reverse=True)\n",
    "    i=1\n",
    "    j=0\n",
    "    k_selected=[]\n",
    "    prev=sorted_sequences[0][1][2]\n",
    "    for sequence in sorted_sequences:\n",
    "        if sequence[1][2]!=prev:\n",
    "            i+=1\n",
    "            prev=sequence[1][2]\n",
    "        if i<=k:\n",
    "            status=True\n",
    "            possible_super=sequence[0]\n",
    "            idx=0\n",
    "            while idx<len(k_selected):\n",
    "                possible_subsequence=k_selected[idx]\n",
    "                if check_subsequence(possible_super,possible_subsequence):\n",
    "                    if sequences[possible_super][3]==sequences[possible_subsequence][3]:\n",
    "\n",
    "                        p=k_selected.pop(idx)\n",
    "                        idx-=1\n",
    "                \n",
    "                if check_subsequence(possible_subsequence,possible_super):\n",
    "                    if sequences[possible_super][3]==sequences[possible_subsequence][3]:\n",
    "                        status=False\n",
    "                idx+=1\n",
    "            if status:\n",
    "                k_selected.append(possible_super)\n",
    "            j+=1\n",
    "        else:\n",
    "            break\n",
    "    if printing==True:\n",
    "        for sequence in k_selected:\n",
    "            out='['+', '.join(list(sequence))+']'\n",
    "            print(out,sequences[sequence][0],sequences[sequence][1],sequences[sequence][2])\n",
    "            \n",
    "    return set(k_selected)"
   ]
  },
  {
   "cell_type": "markdown",
   "metadata": {},
   "source": [
    "# Example of running the algorithm to check if everything in f2_spade works"
   ]
  },
  {
   "cell_type": "markdown",
   "metadata": {},
   "source": [
    "## wracc"
   ]
  },
  {
   "cell_type": "code",
   "execution_count": 43,
   "metadata": {},
   "outputs": [
    {
     "name": "stdout",
     "output_type": "stream",
     "text": [
      "[Y] 314 99 0.18332\n",
      "[E, Y] 190 28 0.13167\n",
      "[Y, G] 175 22 0.12373\n",
      "[P, Y] 174 22 0.12295\n",
      "[D, Y] 174 25 0.121\n"
     ]
    }
   ],
   "source": [
    "# TODO: read the dataset files and call your miner to print the top k itemsets\n",
    "ds_positive=Dataset_Sequence('p-positive.txt')\n",
    "P=ds_positive.trans_num() #  The number of transactions in positive class\n",
    "ds_negative=Dataset_Sequence('p-negative.txt')\n",
    "N=ds_negative.trans_num() #  The number of transactions in negative class\n",
    "total=P+N\n",
    "#print('P=',P,\"N=\",N,'Total=',total)\n",
    "#print(ds_positive.transactions)\n",
    "positive_seqs=f2_spade(ds_positive, 0.02,printing=False)\n",
    "negative_seqs=f2_spade(ds_negative, 0.05,printing=False)\n",
    "top_k_seq=k_select_closed(positive_seqs,negative_seqs,5,P,N,total,score_type='wracc',printing=True)"
   ]
  },
  {
   "cell_type": "markdown",
   "metadata": {},
   "source": [
    "## abswracc"
   ]
  },
  {
   "cell_type": "code",
   "execution_count": 47,
   "metadata": {},
   "outputs": [
    {
     "name": "stdout",
     "output_type": "stream",
     "text": [
      "[Y] 314 99 0.18332\n",
      "[R, S] 73 344 0.16604\n",
      "[R, R, S] 16 231 0.13755\n",
      "[R, R] 58 279 0.13562\n",
      "[E, Y] 190 28 0.13167\n"
     ]
    }
   ],
   "source": [
    "# TODO: read the dataset files and call your miner to print the top k itemsets\n",
    "ds_positive=Dataset_Sequence('p-positive.txt')\n",
    "P=ds_positive.trans_num() #  The number of transactions in positive class\n",
    "ds_negative=Dataset_Sequence('p-negative.txt')\n",
    "N=ds_negative.trans_num() #  The number of transactions in negative class\n",
    "total=P+N\n",
    "#print('P=',P,\"N=\",N,'Total=',total)\n",
    "#print(ds_positive.transactions)\n",
    "positive_seqs=f2_spade(ds_positive, 0.02,printing=False)\n",
    "negative_seqs=f2_spade(ds_negative, 0.05,printing=False)\n",
    "top_k_seq=k_select_closed(positive_seqs,negative_seqs,5,P,N,total,score_type='abswracc',printing=True)"
   ]
  },
  {
   "cell_type": "markdown",
   "metadata": {},
   "source": [
    "## Information Gain"
   ]
  },
  {
   "cell_type": "code",
   "execution_count": 49,
   "metadata": {},
   "outputs": [
    {
     "name": "stdout",
     "output_type": "stream",
     "text": [
      "[Y] 314 99 0.52112\n",
      "[R, S] 73 344 0.36545\n",
      "[R, R, S] 16 231 0.27738\n",
      "[E, Y] 190 28 0.2524\n",
      "[R] 152 367 0.24037\n"
     ]
    }
   ],
   "source": [
    "# TODO: read the dataset files and call your miner to print the top k itemsets\n",
    "ds_positive=Dataset_Sequence('p-positive.txt')\n",
    "P=ds_positive.trans_num() #  The number of transactions in positive class\n",
    "ds_negative=Dataset_Sequence('p-negative.txt')\n",
    "N=ds_negative.trans_num() #  The number of transactions in negative class\n",
    "total=P+N\n",
    "#print('P=',P,\"N=\",N,'Total=',total)\n",
    "#print(ds_positive.transactions)\n",
    "positive_seqs=f2_spade(ds_positive, 0.02,printing=False)\n",
    "negative_seqs=f2_spade(ds_negative, 0.05,printing=False)\n",
    "top_k_seq=k_select_closed(positive_seqs,negative_seqs,5,P,N,total,score_type='infogain',printing=True)"
   ]
  },
  {
   "cell_type": "markdown",
   "metadata": {},
   "source": [
    "# Machine Learning Performance Comparision"
   ]
  },
  {
   "cell_type": "markdown",
   "metadata": {},
   "source": [
    "## 1- function for creating Pandas data frame"
   ]
  },
  {
   "cell_type": "code",
   "execution_count": 19,
   "metadata": {},
   "outputs": [],
   "source": [
    "def Create_df(seqList,positiveTrans,negativeTrans):\n",
    "    '''\n",
    "    seqList=[]\n",
    "    for i in selected:\n",
    "        seqs=list(selected[i])\n",
    "        for seq in seqs:\n",
    "            seqList.append(seq)\n",
    "    '''\n",
    "    frame = pd.DataFrame(columns = list(seqList)+['label'])\n",
    "    counter=0\n",
    "    # Adding Positive Class\n",
    "    for transaction in positiveTrans:\n",
    "        seqObserved=[]\n",
    "        for seq in seqList:\n",
    "            seqObserved.append(int(check_subsequence(transaction,seq)))\n",
    "        seqObserved.append(True)\n",
    "        frame.loc[counter]=seqObserved\n",
    "        counter+=1\n",
    "    # Adding Negative Class\n",
    "    for transaction in negativeTrans:\n",
    "        seqObserved=[]\n",
    "        for seq in seqList:\n",
    "            seqObserved.append(int(check_subsequence(transaction,seq)))\n",
    "        seqObserved.append(False)\n",
    "        frame.loc[counter]=seqObserved\n",
    "        counter+=1\n",
    "    frame = frame.sample(frac=1).reset_index(drop=True)\n",
    "    return frame"
   ]
  },
  {
   "cell_type": "code",
   "execution_count": 53,
   "metadata": {},
   "outputs": [],
   "source": [
    "# TODO: read the dataset files and call your miner to print the top k itemsets\n",
    "ds_positive=Dataset_Sequence('positive.txt')\n",
    "P=ds_positive.trans_num() #  The number of transactions in positive class\n",
    "ds_negative=Dataset_Sequence('negative.txt')\n",
    "N=ds_negative.trans_num() #  The number of transactions in negative class\n",
    "total=P+N\n",
    "#print('P=',P,\"N=\",N,'Total=',total)\n",
    "#print(ds_positive.transactions)\n",
    "positive_seqs=f2_spade(ds_positive, 0.02,printing=False)\n",
    "negative_seqs=f2_spade(ds_negative, 0.05,printing=False)\n",
    "top_k_seq=k_select_closed(positive_seqs,negative_seqs,6,P,N,total,score_type='wracc')"
   ]
  },
  {
   "cell_type": "code",
   "execution_count": 54,
   "metadata": {},
   "outputs": [],
   "source": [
    "frame=Create_df(top_k_seq,ds_positive.transactions,ds_negative.transactions)"
   ]
  },
  {
   "cell_type": "code",
   "execution_count": 55,
   "metadata": {},
   "outputs": [
    {
     "data": {
      "text/html": [
       "<div>\n",
       "<style scoped>\n",
       "    .dataframe tbody tr th:only-of-type {\n",
       "        vertical-align: middle;\n",
       "    }\n",
       "\n",
       "    .dataframe tbody tr th {\n",
       "        vertical-align: top;\n",
       "    }\n",
       "\n",
       "    .dataframe thead th {\n",
       "        text-align: right;\n",
       "    }\n",
       "</style>\n",
       "<table border=\"1\" class=\"dataframe\">\n",
       "  <thead>\n",
       "    <tr style=\"text-align: right;\">\n",
       "      <th></th>\n",
       "      <th>(A, A, C, A)</th>\n",
       "      <th>(A, C, A)</th>\n",
       "      <th>(A, B, A)</th>\n",
       "      <th>(A, C, C, A)</th>\n",
       "      <th>(A, A)</th>\n",
       "      <th>(A, C, C, B, A, B)</th>\n",
       "      <th>(A, B, B, A, C, A)</th>\n",
       "      <th>(A, A, B, C, C, A)</th>\n",
       "      <th>(A, C, C, A, C, A)</th>\n",
       "      <th>(A, A, B)</th>\n",
       "      <th>(A, B, C, A)</th>\n",
       "      <th>label</th>\n",
       "    </tr>\n",
       "  </thead>\n",
       "  <tbody>\n",
       "    <tr>\n",
       "      <th>6</th>\n",
       "      <td>1</td>\n",
       "      <td>1</td>\n",
       "      <td>1</td>\n",
       "      <td>1</td>\n",
       "      <td>1</td>\n",
       "      <td>0</td>\n",
       "      <td>0</td>\n",
       "      <td>0</td>\n",
       "      <td>0</td>\n",
       "      <td>1</td>\n",
       "      <td>1</td>\n",
       "      <td>True</td>\n",
       "    </tr>\n",
       "    <tr>\n",
       "      <th>4</th>\n",
       "      <td>0</td>\n",
       "      <td>1</td>\n",
       "      <td>1</td>\n",
       "      <td>1</td>\n",
       "      <td>1</td>\n",
       "      <td>0</td>\n",
       "      <td>0</td>\n",
       "      <td>0</td>\n",
       "      <td>0</td>\n",
       "      <td>1</td>\n",
       "      <td>1</td>\n",
       "      <td>False</td>\n",
       "    </tr>\n",
       "    <tr>\n",
       "      <th>0</th>\n",
       "      <td>0</td>\n",
       "      <td>0</td>\n",
       "      <td>0</td>\n",
       "      <td>0</td>\n",
       "      <td>1</td>\n",
       "      <td>0</td>\n",
       "      <td>0</td>\n",
       "      <td>0</td>\n",
       "      <td>0</td>\n",
       "      <td>0</td>\n",
       "      <td>0</td>\n",
       "      <td>False</td>\n",
       "    </tr>\n",
       "    <tr>\n",
       "      <th>3</th>\n",
       "      <td>0</td>\n",
       "      <td>0</td>\n",
       "      <td>0</td>\n",
       "      <td>0</td>\n",
       "      <td>0</td>\n",
       "      <td>0</td>\n",
       "      <td>0</td>\n",
       "      <td>0</td>\n",
       "      <td>0</td>\n",
       "      <td>0</td>\n",
       "      <td>0</td>\n",
       "      <td>False</td>\n",
       "    </tr>\n",
       "    <tr>\n",
       "      <th>2</th>\n",
       "      <td>1</td>\n",
       "      <td>1</td>\n",
       "      <td>1</td>\n",
       "      <td>0</td>\n",
       "      <td>1</td>\n",
       "      <td>0</td>\n",
       "      <td>0</td>\n",
       "      <td>0</td>\n",
       "      <td>0</td>\n",
       "      <td>0</td>\n",
       "      <td>1</td>\n",
       "      <td>True</td>\n",
       "    </tr>\n",
       "  </tbody>\n",
       "</table>\n",
       "</div>"
      ],
      "text/plain": [
       "  (A, A, C, A) (A, C, A) (A, B, A) (A, C, C, A) (A, A) (A, C, C, B, A, B)  \\\n",
       "6            1         1         1            1      1                  0   \n",
       "4            0         1         1            1      1                  0   \n",
       "0            0         0         0            0      1                  0   \n",
       "3            0         0         0            0      0                  0   \n",
       "2            1         1         1            0      1                  0   \n",
       "\n",
       "  (A, B, B, A, C, A) (A, A, B, C, C, A) (A, C, C, A, C, A) (A, A, B)  \\\n",
       "6                  0                  0                  0         1   \n",
       "4                  0                  0                  0         1   \n",
       "0                  0                  0                  0         0   \n",
       "3                  0                  0                  0         0   \n",
       "2                  0                  0                  0         0   \n",
       "\n",
       "  (A, B, C, A)  label  \n",
       "6            1   True  \n",
       "4            1  False  \n",
       "0            0  False  \n",
       "3            0  False  \n",
       "2            1   True  "
      ]
     },
     "execution_count": 55,
     "metadata": {},
     "output_type": "execute_result"
    }
   ],
   "source": [
    "frame.sample(5)"
   ]
  },
  {
   "cell_type": "markdown",
   "metadata": {},
   "source": [
    "### 1-1 Running Experiment on Machine Learning (Example) (Logistic Regression and Decision Tree)"
   ]
  },
  {
   "cell_type": "markdown",
   "metadata": {},
   "source": [
    "#### 1-1-1 Protein Dataset with k=10"
   ]
  },
  {
   "cell_type": "code",
   "execution_count": 66,
   "metadata": {},
   "outputs": [],
   "source": [
    "# TODO: read the dataset files and call your miner to print the top k itemsets\n",
    "ds_positive=Dataset_Sequence('p-positive.txt')\n",
    "P=ds_positive.trans_num() #  The number of transactions in positive class\n",
    "ds_negative=Dataset_Sequence('p-negative.txt')\n",
    "N=ds_negative.trans_num() #  The number of transactions in negative class\n",
    "total=P+N\n",
    "#print('P=',P,\"N=\",N,'Total=',total)\n",
    "#print(ds_positive.transactions)\n",
    "positive_seqs=f2_spade(ds_positive, 0.02,printing=False)\n",
    "negative_seqs=f2_spade(ds_negative, 0.05,printing=False)"
   ]
  },
  {
   "cell_type": "markdown",
   "metadata": {},
   "source": [
    "#### wracc"
   ]
  },
  {
   "cell_type": "code",
   "execution_count": 25,
   "metadata": {},
   "outputs": [
    {
     "name": "stdout",
     "output_type": "stream",
     "text": [
      "Logistic Regression:\n",
      "\tTraining Accuracy: 0.9197530864197531\n",
      "\tTest Accuracy: 0.8851674641148325\n",
      "Decision Tree:\n",
      "\tTraining Accuracy: 0.977366255144033\n",
      "\tTest Accuracy: 0.8947368421052632\n"
     ]
    }
   ],
   "source": [
    "top_k_seq=k_select_closed(positive_seqs,negative_seqs,10,P,N,total,score_type='wracc')\n",
    "frame=Create_df(top_k_seq,ds_positive.transactions,ds_negative.transactions)\n",
    "X_train, X_test, y_train, y_test = train_test_split(frame.iloc[:,:-1], frame.iloc[:,-1], test_size=0.3, random_state=42)\n",
    "lr = LogisticRegression(random_state=0).fit(X_train, y_train.astype(int))\n",
    "print('Logistic Regression:')\n",
    "print('\\tTraining Accuracy:',lr.score(X_train, y_train.astype(int)))\n",
    "print('\\tTest Accuracy:',lr.score(X_test, y_test.astype(int)))\n",
    "dt = DecisionTreeClassifier(random_state=0).fit(X_train, y_train.astype(int))\n",
    "print('Decision Tree:')\n",
    "print('\\tTraining Accuracy:',dt.score(X_train, y_train.astype(int)))\n",
    "print('\\tTest Accuracy:',dt.score(X_test, y_test.astype(int)))"
   ]
  },
  {
   "cell_type": "markdown",
   "metadata": {},
   "source": [
    "#### abswracc"
   ]
  },
  {
   "cell_type": "code",
   "execution_count": 70,
   "metadata": {},
   "outputs": [
    {
     "name": "stdout",
     "output_type": "stream",
     "text": [
      "Logistic Regression:\n",
      "\tTraining Accuracy: 0.9423868312757202\n",
      "\tTest Accuracy: 0.9617224880382775\n",
      "Decision Tree:\n",
      "\tTraining Accuracy: 0.9547325102880658\n",
      "\tTest Accuracy: 0.9521531100478469\n"
     ]
    }
   ],
   "source": [
    "top_k_seq=k_select_closed(positive_seqs,negative_seqs,10,P,N,total,score_type='abswracc')\n",
    "frame=Create_df(top_k_seq,ds_positive.transactions,ds_negative.transactions)\n",
    "X_train, X_test, y_train, y_test = train_test_split(frame.iloc[:,:-1], frame.iloc[:,-1], test_size=0.3, random_state=42)\n",
    "lr = LogisticRegression(random_state=0).fit(X_train, y_train.astype(int))\n",
    "print('Logistic Regression:')\n",
    "print('\\tTraining Accuracy:',lr.score(X_train, y_train.astype(int)))\n",
    "print('\\tTest Accuracy:',lr.score(X_test, y_test.astype(int)))\n",
    "dt = DecisionTreeClassifier(random_state=0).fit(X_train, y_train.astype(int))\n",
    "print('Decision Tree:')\n",
    "print('\\tTraining Accuracy:',dt.score(X_train, y_train.astype(int)))\n",
    "print('\\tTest Accuracy:',dt.score(X_test, y_test.astype(int)))"
   ]
  },
  {
   "cell_type": "markdown",
   "metadata": {},
   "source": [
    "#### information gain"
   ]
  },
  {
   "cell_type": "code",
   "execution_count": 69,
   "metadata": {},
   "outputs": [
    {
     "name": "stdout",
     "output_type": "stream",
     "text": [
      "Logistic Regression:\n",
      "\tTraining Accuracy: 0.9567901234567902\n",
      "\tTest Accuracy: 0.937799043062201\n",
      "Decision Tree:\n",
      "\tTraining Accuracy: 0.9691358024691358\n",
      "\tTest Accuracy: 0.9282296650717703\n"
     ]
    }
   ],
   "source": [
    "top_k_seq=k_select_closed(positive_seqs,negative_seqs,10,P,N,total,score_type='infogain')\n",
    "frame=Create_df(top_k_seq,ds_positive.transactions,ds_negative.transactions)\n",
    "X_train, X_test, y_train, y_test = train_test_split(frame.iloc[:,:-1], frame.iloc[:,-1], test_size=0.3, random_state=42)\n",
    "lr = LogisticRegression(random_state=0).fit(X_train, y_train.astype(int))\n",
    "print('Logistic Regression:')\n",
    "print('\\tTraining Accuracy:',lr.score(X_train, y_train.astype(int)))\n",
    "print('\\tTest Accuracy:',lr.score(X_test, y_test.astype(int)))\n",
    "dt = DecisionTreeClassifier(random_state=0).fit(X_train, y_train.astype(int))\n",
    "print('Decision Tree:')\n",
    "print('\\tTraining Accuracy:',dt.score(X_train, y_train.astype(int)))\n",
    "print('\\tTest Accuracy:',dt.score(X_test, y_test.astype(int)))"
   ]
  },
  {
   "cell_type": "markdown",
   "metadata": {},
   "source": [
    "#### 1-1-2 Reuters Dataset with k=10"
   ]
  },
  {
   "cell_type": "markdown",
   "metadata": {},
   "source": [
    "## Warning: Due to the size of Reuters Data set, we could not run the experiments on this data set "
   ]
  },
  {
   "cell_type": "code",
   "execution_count": 71,
   "metadata": {},
   "outputs": [],
   "source": [
    "# TODO: read the dataset files and call your miner to print the top k itemsets\n",
    "ds_positive=Dataset_Sequence('r-positive.txt')\n",
    "P=ds_positive.trans_num() #  The number of transactions in positive class\n",
    "ds_negative=Dataset_Sequence('r-negative.txt')\n",
    "N=ds_negative.trans_num() #  The number of transactions in negative class\n",
    "total=P+N\n",
    "#print('P=',P,\"N=\",N,'Total=',total)\n",
    "#print(ds_positive.transactions)\n",
    "positive_seqs=f2_spade(ds_positive, 0.02,printing=False)\n",
    "negative_seqs=f2_spade(ds_negative, 0.05,printing=False)"
   ]
  },
  {
   "cell_type": "code",
   "execution_count": 74,
   "metadata": {},
   "outputs": [],
   "source": [
    "import pickle \n",
    "r_pos_seqs=open('r_pos_seqs.p','wb')\n",
    "pickle.dump(positive_seqs,r_pos_seqs)\n",
    "r_neg_seqs=open('r_neg_seqs.p','wb')\n",
    "pickle.dump(negative_seqs,r_neg_seqs)"
   ]
  },
  {
   "cell_type": "markdown",
   "metadata": {},
   "source": [
    "#### wracc"
   ]
  },
  {
   "cell_type": "code",
   "execution_count": null,
   "metadata": {},
   "outputs": [],
   "source": [
    "top_k_seq=k_select_closed(positive_seqs,negative_seqs,10,P,N,total,score_type='wracc')\n",
    "frame=Create_df(top_k_seq,ds_positive.transactions,ds_negative.transactions)\n",
    "X_train, X_test, y_train, y_test = train_test_split(frame.iloc[:,:-1], frame.iloc[:,-1], test_size=0.3, random_state=42)\n",
    "lr = LogisticRegression(random_state=0).fit(X_train, y_train.astype(int))\n",
    "print('Logistic Regression:')\n",
    "print('\\tTraining Accuracy:',lr.score(X_train, y_train.astype(int)))\n",
    "print('\\tTest Accuracy:',lr.score(X_test, y_test.astype(int)))\n",
    "dt = DecisionTreeClassifier(random_state=0).fit(X_train, y_train.astype(int))\n",
    "print('Decision Tree:')\n",
    "print('\\tTraining Accuracy:',dt.score(X_train, y_train.astype(int)))\n",
    "print('\\tTest Accuracy:',dt.score(X_test, y_test.astype(int)))"
   ]
  },
  {
   "cell_type": "markdown",
   "metadata": {},
   "source": [
    "#### abswracc"
   ]
  },
  {
   "cell_type": "code",
   "execution_count": null,
   "metadata": {},
   "outputs": [],
   "source": [
    "top_k_seq=k_select_closed(positive_seqs,negative_seqs,10,P,N,total,score_type='abswracc')\n",
    "frame=Create_df(top_k_seq,ds_positive.transactions,ds_negative.transactions)\n",
    "X_train, X_test, y_train, y_test = train_test_split(frame.iloc[:,:-1], frame.iloc[:,-1], test_size=0.3, random_state=42)\n",
    "lr = LogisticRegression(random_state=0).fit(X_train, y_train.astype(int))\n",
    "print('Logistic Regression:')\n",
    "print('\\tTraining Accuracy:',lr.score(X_train, y_train.astype(int)))\n",
    "print('\\tTest Accuracy:',lr.score(X_test, y_test.astype(int)))\n",
    "dt = DecisionTreeClassifier(random_state=0).fit(X_train, y_train.astype(int))\n",
    "print('Decision Tree:')\n",
    "print('\\tTraining Accuracy:',dt.score(X_train, y_train.astype(int)))\n",
    "print('\\tTest Accuracy:',dt.score(X_test, y_test.astype(int)))"
   ]
  },
  {
   "cell_type": "markdown",
   "metadata": {},
   "source": [
    "#### Information Gain"
   ]
  },
  {
   "cell_type": "code",
   "execution_count": null,
   "metadata": {},
   "outputs": [],
   "source": [
    "top_k_seq=k_select_closed(positive_seqs,negative_seqs,10,P,N,total,score_type='infogain')\n",
    "frame=Create_df(top_k_seq,ds_positive.transactions,ds_negative.transactions)\n",
    "X_train, X_test, y_train, y_test = train_test_split(frame.iloc[:,:-1], frame.iloc[:,-1], test_size=0.3, random_state=42)\n",
    "lr = LogisticRegression(random_state=0).fit(X_train, y_train.astype(int))\n",
    "print('Logistic Regression:')\n",
    "print('\\tTraining Accuracy:',lr.score(X_train, y_train.astype(int)))\n",
    "print('\\tTest Accuracy:',lr.score(X_test, y_test.astype(int)))\n",
    "dt = DecisionTreeClassifier(random_state=0).fit(X_train, y_train.astype(int))\n",
    "print('Decision Tree:')\n",
    "print('\\tTraining Accuracy:',dt.score(X_train, y_train.astype(int)))\n",
    "print('\\tTest Accuracy:',dt.score(X_test, y_test.astype(int)))"
   ]
  },
  {
   "cell_type": "markdown",
   "metadata": {},
   "source": [
    "## 1-2 Comparing the performance of the algorithms (Closed- wracc,abswracc, and infogain) with different k"
   ]
  },
  {
   "cell_type": "markdown",
   "metadata": {},
   "source": [
    "### Protein Dataset"
   ]
  },
  {
   "cell_type": "code",
   "execution_count": 24,
   "metadata": {},
   "outputs": [],
   "source": [
    "\n",
    "# Finding all candidate sequence\n",
    "ds_positive=Dataset_Sequence('p-positive.txt')\n",
    "P=ds_positive.trans_num() #  The number of transactions in positive class\n",
    "ds_negative=Dataset_Sequence('p-negative.txt')\n",
    "N=ds_negative.trans_num() #  The number of transactions in negative class\n",
    "total=P+N\n",
    "#print('P=',P,\"N=\",N,'Total=',total)\n",
    "#print(ds_positive.transactions)\n",
    "positive_seqs=f2_spade(ds_positive, 0.02,printing=False)\n",
    "negative_seqs=f2_spade(ds_negative, 0.05,printing=False)"
   ]
  },
  {
   "cell_type": "markdown",
   "metadata": {},
   "source": [
    "### Closed Wracc"
   ]
  },
  {
   "cell_type": "code",
   "execution_count": 29,
   "metadata": {},
   "outputs": [
    {
     "name": "stdout",
     "output_type": "stream",
     "text": [
      "Current k:  5\n",
      "Current k:  10\n",
      "Current k:  20\n",
      "Current k:  30\n",
      "Current k:  40\n",
      "Current k:  50\n",
      "Current k:  60\n",
      "Current k:  70\n",
      "Current k:  80\n",
      "Current k:  90\n",
      "Current k:  100\n"
     ]
    },
    {
     "data": {
      "image/png": "[encoded data removed]",
      "text/plain": [
       "<Figure size 432x288 with 1 Axes>"
      ]
     },
     "metadata": {
      "needs_background": "light"
     },
     "output_type": "display_data"
    },
    {
     "data": {
      "image/png": "[encoded data removed]",
      "text/plain": [
       "<Figure size 432x288 with 1 Axes>"
      ]
     },
     "metadata": {
      "needs_background": "light"
     },
     "output_type": "display_data"
    }
   ],
   "source": [
    "lr_train_acc=[]\n",
    "lr_test_acc=[]\n",
    "dt_train_acc=[]\n",
    "dt_test_acc=[]\n",
    "\n",
    "KS=[5,10,20,30,40,50,60,70,80,90,100]\n",
    "for k in KS:\n",
    "    print('Current k: ',k)\n",
    "    top_k_seq=k_select_closed(positive_seqs,negative_seqs,k,P,N,total,score_type='wracc')\n",
    "    frame=Create_df(top_k_seq,ds_positive.transactions,ds_negative.transactions)# creating the dataframe\n",
    "    X_train, X_test, y_train, y_test = train_test_split(frame.iloc[:,:-1], frame.iloc[:,-1], test_size=0.3, random_state=42)\n",
    "    \"\"\"\n",
    "    Logistic Regression\n",
    "    \"\"\"\n",
    "    lr = LogisticRegression(random_state=0).fit(X_train, y_train.astype(int))\n",
    "    lr_train_acc.append(lr.score(X_train, y_train.astype(int)))\n",
    "    lr_test_acc.append(lr.score(X_test, y_test.astype(int)))\n",
    "        \n",
    "    \"\"\"\n",
    "    Decision Tree\n",
    "    \"\"\"\n",
    "    dt = DecisionTreeClassifier(random_state=0).fit(X_train, y_train.astype(int))\n",
    "    dt_train_acc.append(dt.score(X_train, y_train.astype(int)))\n",
    "    dt_test_acc.append(dt.score(X_test, y_test.astype(int)))\n",
    "    \n",
    "## Plotting\n",
    "plt.figure(1)\n",
    "plt.plot(KS,lr_train_acc,'->',label='Training Acc')\n",
    "plt.plot(KS,lr_test_acc,'--',label='Test Acc')\n",
    "#plt.fill_between(KS,np.array(lr_train_acc)-0.002,np.array(lr_train_acc)+0.002,color='gray', alpha=0.2)\n",
    "#plt.xlim(0, 10)\n",
    "plt.title('Protein- Logistic Regression (Closed_wracc)')\n",
    "plt.xlabel('k')\n",
    "plt.ylabel('Accuracy')\n",
    "plt.legend()\n",
    "plt.savefig('Protein-Closedwracc-Logi.png')\n",
    "\n",
    "plt.figure(2)\n",
    "plt.plot(KS,dt_train_acc,'->',label='Training Acc')\n",
    "plt.plot(KS,dt_test_acc,'--',label='Test Acc')\n",
    "plt.title('Protein- Decision Tree (Closed_wracc)')\n",
    "plt.xlabel('k')\n",
    "plt.ylabel('Accuracy')\n",
    "plt.legend()\n",
    "plt.savefig('Protein-Closedwracc-DecTr.png')"
   ]
  },
  {
   "cell_type": "markdown",
   "metadata": {},
   "source": [
    "### Closed absWracc"
   ]
  },
  {
   "cell_type": "code",
   "execution_count": 30,
   "metadata": {},
   "outputs": [
    {
     "name": "stdout",
     "output_type": "stream",
     "text": [
      "Current k:  5\n",
      "Current k:  10\n",
      "Current k:  20\n",
      "Current k:  30\n",
      "Current k:  40\n",
      "Current k:  50\n",
      "Current k:  60\n",
      "Current k:  70\n",
      "Current k:  80\n",
      "Current k:  90\n",
      "Current k:  100\n"
     ]
    },
    {
     "data": {
      "image/png": "[encoded data removed]",
      "text/plain": [
       "<Figure size 432x288 with 1 Axes>"
      ]
     },
     "metadata": {
      "needs_background": "light"
     },
     "output_type": "display_data"
    },
    {
     "data": {
      "image/png": "[encoded data removed]",
      "text/plain": [
       "<Figure size 432x288 with 1 Axes>"
      ]
     },
     "metadata": {
      "needs_background": "light"
     },
     "output_type": "display_data"
    }
   ],
   "source": [
    "lr_train_acc=[]\n",
    "lr_test_acc=[]\n",
    "dt_train_acc=[]\n",
    "dt_test_acc=[]\n",
    "\n",
    "KS=[5,10,20,30,40,50,60,70,80,90,100]\n",
    "for k in KS:\n",
    "    print('Current k: ',k)\n",
    "    top_k_seq=k_select_closed(positive_seqs,negative_seqs,k,P,N,total,score_type='abswracc')\n",
    "    frame=Create_df(top_k_seq,ds_positive.transactions,ds_negative.transactions)# creating the dataframe\n",
    "    X_train, X_test, y_train, y_test = train_test_split(frame.iloc[:,:-1], frame.iloc[:,-1], test_size=0.3, random_state=42)\n",
    "    \"\"\"\n",
    "    Logistic Regression\n",
    "    \"\"\"\n",
    "    lr = LogisticRegression(random_state=0).fit(X_train, y_train.astype(int))\n",
    "    lr_train_acc.append(lr.score(X_train, y_train.astype(int)))\n",
    "    lr_test_acc.append(lr.score(X_test, y_test.astype(int)))\n",
    "        \n",
    "    \"\"\"\n",
    "    Decision Tree\n",
    "    \"\"\"\n",
    "    dt = DecisionTreeClassifier(random_state=0).fit(X_train, y_train.astype(int))\n",
    "    dt_train_acc.append(dt.score(X_train, y_train.astype(int)))\n",
    "    dt_test_acc.append(dt.score(X_test, y_test.astype(int)))\n",
    "    \n",
    "## Plotting\n",
    "plt.figure(1)\n",
    "plt.plot(KS,lr_train_acc,'->',label='Training Acc')\n",
    "plt.plot(KS,lr_test_acc,'--',label='Test Acc')\n",
    "#plt.fill_between(KS,np.array(lr_train_acc)-0.002,np.array(lr_train_acc)+0.002,color='gray', alpha=0.2)\n",
    "#plt.xlim(0, 10)\n",
    "plt.title('Protein- Logistic Regression (Closed_abswracc)')\n",
    "plt.xlabel('k')\n",
    "plt.ylabel('Accuracy')\n",
    "plt.legend()\n",
    "plt.savefig('Protein-Closedabswracc-Logi.png')\n",
    "\n",
    "plt.figure(2)\n",
    "plt.plot(KS,dt_train_acc,'->',label='Training Acc')\n",
    "plt.plot(KS,dt_test_acc,'--',label='Test Acc')\n",
    "plt.title('Protein- Decision Tree (Closed_abswracc)')\n",
    "plt.xlabel('k')\n",
    "plt.ylabel('Accuracy')\n",
    "plt.legend()\n",
    "plt.savefig('Protein-Closedabswracc-DecTr.png')"
   ]
  },
  {
   "cell_type": "markdown",
   "metadata": {},
   "source": [
    "### Closed infogain"
   ]
  },
  {
   "cell_type": "code",
   "execution_count": 31,
   "metadata": {},
   "outputs": [
    {
     "name": "stdout",
     "output_type": "stream",
     "text": [
      "Current k:  5\n",
      "Current k:  10\n",
      "Current k:  20\n",
      "Current k:  30\n",
      "Current k:  40\n",
      "Current k:  50\n",
      "Current k:  60\n",
      "Current k:  70\n",
      "Current k:  80\n",
      "Current k:  90\n",
      "Current k:  100\n"
     ]
    },
    {
     "data": {
      "image/png": "[encoded data removed]",
      "text/plain": [
       "<Figure size 432x288 with 1 Axes>"
      ]
     },
     "metadata": {
      "needs_background": "light"
     },
     "output_type": "display_data"
    },
    {
     "data": {
      "image/png": "[encoded data removed]",
      "text/plain": [
       "<Figure size 432x288 with 1 Axes>"
      ]
     },
     "metadata": {
      "needs_background": "light"
     },
     "output_type": "display_data"
    }
   ],
   "source": [
    "lr_train_acc=[]\n",
    "lr_test_acc=[]\n",
    "dt_train_acc=[]\n",
    "dt_test_acc=[]\n",
    "\n",
    "KS=[5,10,20,30,40,50,60,70,80,90,100]\n",
    "for k in KS:\n",
    "    print('Current k: ',k)\n",
    "    top_k_seq=k_select_closed(positive_seqs,negative_seqs,k,P,N,total,score_type='infogain')\n",
    "    frame=Create_df(top_k_seq,ds_positive.transactions,ds_negative.transactions)# creating the dataframe\n",
    "    X_train, X_test, y_train, y_test = train_test_split(frame.iloc[:,:-1], frame.iloc[:,-1], test_size=0.3, random_state=42)\n",
    "    \"\"\"\n",
    "    Logistic Regression\n",
    "    \"\"\"\n",
    "    lr = LogisticRegression(random_state=0).fit(X_train, y_train.astype(int))\n",
    "    lr_train_acc.append(lr.score(X_train, y_train.astype(int)))\n",
    "    lr_test_acc.append(lr.score(X_test, y_test.astype(int)))\n",
    "        \n",
    "    \"\"\"\n",
    "    Decision Tree\n",
    "    \"\"\"\n",
    "    dt = DecisionTreeClassifier(random_state=0).fit(X_train, y_train.astype(int))\n",
    "    dt_train_acc.append(dt.score(X_train, y_train.astype(int)))\n",
    "    dt_test_acc.append(dt.score(X_test, y_test.astype(int)))\n",
    "    \n",
    "## Plotting\n",
    "plt.figure(1)\n",
    "plt.plot(KS,lr_train_acc,'->',label='Training Acc')\n",
    "plt.plot(KS,lr_test_acc,'--',label='Test Acc')\n",
    "#plt.fill_between(KS,np.array(lr_train_acc)-0.002,np.array(lr_train_acc)+0.002,color='gray', alpha=0.2)\n",
    "#plt.xlim(0, 10)\n",
    "plt.title('Protein- Logistic Regression (Closed_infogain)')\n",
    "plt.xlabel('k')\n",
    "plt.ylabel('Accuracy')\n",
    "plt.legend()\n",
    "plt.savefig('Protein-Closedinfowracc-Logi.png')\n",
    "\n",
    "plt.figure(2)\n",
    "plt.plot(KS,dt_train_acc,'->',label='Training Acc')\n",
    "plt.plot(KS,dt_test_acc,'--',label='Test Acc')\n",
    "plt.title('Protein- Decision Tree (Closed_infogain)')\n",
    "plt.xlabel('k')\n",
    "plt.ylabel('Accuracy')\n",
    "plt.legend()\n",
    "plt.savefig('Protein-Closedinfowracc-DecTr.png')"
   ]
  }
 ],
 "metadata": {
  "kernelspec": {
   "display_name": "Python 3",
   "language": "python",
   "name": "python3"
  },
  "language_info": {
   "codemirror_mode": {
    "name": "ipython",
    "version": 3
   },
   "file_extension": ".py",
   "mimetype": "text/x-python",
   "name": "python",
   "nbconvert_exporter": "python",
   "pygments_lexer": "ipython3",
   "version": "3.8.3"
  }
 },
 "nbformat": 4,
 "nbformat_minor": 4
}
